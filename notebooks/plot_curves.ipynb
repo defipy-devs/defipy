{
 "cells": [
  {
   "cell_type": "markdown",
   "id": "95a833af-1ad9-4f8c-adc5-c3cc623a825a",
   "metadata": {},
   "source": [
    "* https://github.com/icmoore/daosys-simulator/blob/main/notebooks/research/test/task9.ipynb"
   ]
  }
 ],
 "metadata": {
  "kernelspec": {
   "display_name": "Python 3 (ipykernel)",
   "language": "python",
   "name": "python3"
  },
  "language_info": {
   "codemirror_mode": {
    "name": "ipython",
    "version": 3
   },
   "file_extension": ".py",
   "mimetype": "text/x-python",
   "name": "python",
   "nbconvert_exporter": "python",
   "pygments_lexer": "ipython3",
   "version": "3.10.0rc2"
  }
 },
 "nbformat": 4,
 "nbformat_minor": 5
}
