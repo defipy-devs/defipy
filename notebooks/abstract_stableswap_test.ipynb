{
 "cells": [
  {
   "cell_type": "markdown",
   "id": "ddb6f8a0-a2e1-47f8-95d1-784294d830c1",
   "metadata": {},
   "source": [
    "# Abstract Interface: Stableswap\n",
    "\n",
    "**Join()**: joins X and Y amounts to pool <br>\n",
    "**Swap()**: swaps X for Y (and vice verse) via out-given-in or in-given-out<br>\n",
    "**AddLiquidity()**: adds liquidity using token or share amounts <br>\n",
    "**RemoveLiquidity()**: removes liquidity using token or share amounts <br>"
   ]
  },
  {
   "cell_type": "code",
   "execution_count": 1,
   "id": "36629404-bfd1-411c-a5ff-db3e8a464716",
   "metadata": {},
   "outputs": [
    {
     "ename": "ModuleNotFoundError",
     "evalue": "No module named 'uniswappy.simulate'",
     "output_type": "error",
     "traceback": [
      "\u001b[0;31m---------------------------------------------------------------------------\u001b[0m",
      "\u001b[0;31mModuleNotFoundError\u001b[0m                       Traceback (most recent call last)",
      "Cell \u001b[0;32mIn[1], line 1\u001b[0m\n\u001b[0;32m----> 1\u001b[0m \u001b[38;5;28;01mfrom\u001b[39;00m \u001b[38;5;21;01mdefipy\u001b[39;00m \u001b[38;5;28;01mimport\u001b[39;00m \u001b[38;5;241m*\u001b[39m\n",
      "File \u001b[0;32m/Library/Frameworks/Python.framework/Versions/3.10/lib/python3.10/site-packages/defipy/__init__.py:1\u001b[0m\n\u001b[0;32m----> 1\u001b[0m \u001b[38;5;28;01mfrom\u001b[39;00m \u001b[38;5;21;01mdefipy\u001b[39;00m\u001b[38;5;21;01m.\u001b[39;00m\u001b[38;5;21;01merc\u001b[39;00m \u001b[38;5;28;01mimport\u001b[39;00m \u001b[38;5;241m*\u001b[39m\n\u001b[1;32m      2\u001b[0m \u001b[38;5;28;01mfrom\u001b[39;00m \u001b[38;5;21;01mdefipy\u001b[39;00m\u001b[38;5;21;01m.\u001b[39;00m\u001b[38;5;21;01mmath\u001b[39;00m\u001b[38;5;21;01m.\u001b[39;00m\u001b[38;5;21;01mbasic\u001b[39;00m \u001b[38;5;28;01mimport\u001b[39;00m \u001b[38;5;241m*\u001b[39m\n\u001b[1;32m      3\u001b[0m \u001b[38;5;28;01mfrom\u001b[39;00m \u001b[38;5;21;01mdefipy\u001b[39;00m\u001b[38;5;21;01m.\u001b[39;00m\u001b[38;5;21;01mmath\u001b[39;00m\u001b[38;5;21;01m.\u001b[39;00m\u001b[38;5;21;01minterest\u001b[39;00m \u001b[38;5;28;01mimport\u001b[39;00m \u001b[38;5;241m*\u001b[39m\n",
      "File \u001b[0;32m/Library/Frameworks/Python.framework/Versions/3.10/lib/python3.10/site-packages/defipy/erc/__init__.py:1\u001b[0m\n\u001b[0;32m----> 1\u001b[0m \u001b[38;5;28;01mfrom\u001b[39;00m \u001b[38;5;21;01muniswappy\u001b[39;00m\u001b[38;5;21;01m.\u001b[39;00m\u001b[38;5;21;01merc\u001b[39;00m \u001b[38;5;28;01mimport\u001b[39;00m \u001b[38;5;241m*\u001b[39m\n",
      "File \u001b[0;32m/Library/Frameworks/Python.framework/Versions/3.10/lib/python3.10/site-packages/uniswappy/__init__.py:21\u001b[0m\n\u001b[1;32m     19\u001b[0m \u001b[38;5;28;01mfrom\u001b[39;00m \u001b[38;5;21;01muniswappy\u001b[39;00m\u001b[38;5;21;01m.\u001b[39;00m\u001b[38;5;21;01mprocess\u001b[39;00m\u001b[38;5;21;01m.\u001b[39;00m\u001b[38;5;21;01mswap\u001b[39;00m \u001b[38;5;28;01mimport\u001b[39;00m \u001b[38;5;241m*\u001b[39m\n\u001b[1;32m     20\u001b[0m \u001b[38;5;28;01mfrom\u001b[39;00m \u001b[38;5;21;01muniswappy\u001b[39;00m\u001b[38;5;21;01m.\u001b[39;00m\u001b[38;5;21;01mprocess\u001b[39;00m\u001b[38;5;21;01m.\u001b[39;00m\u001b[38;5;21;01mjoin\u001b[39;00m \u001b[38;5;28;01mimport\u001b[39;00m \u001b[38;5;241m*\u001b[39m\n\u001b[0;32m---> 21\u001b[0m \u001b[38;5;28;01mfrom\u001b[39;00m \u001b[38;5;21;01muniswappy\u001b[39;00m\u001b[38;5;21;01m.\u001b[39;00m\u001b[38;5;21;01manalytics\u001b[39;00m\u001b[38;5;21;01m.\u001b[39;00m\u001b[38;5;21;01msimulate\u001b[39;00m \u001b[38;5;28;01mimport\u001b[39;00m \u001b[38;5;241m*\u001b[39m\n\u001b[1;32m     22\u001b[0m \u001b[38;5;28;01mfrom\u001b[39;00m \u001b[38;5;21;01muniswappy\u001b[39;00m\u001b[38;5;21;01m.\u001b[39;00m\u001b[38;5;21;01manalytics\u001b[39;00m\u001b[38;5;21;01m.\u001b[39;00m\u001b[38;5;21;01mrisk\u001b[39;00m \u001b[38;5;28;01mimport\u001b[39;00m \u001b[38;5;241m*\u001b[39m\n\u001b[1;32m     23\u001b[0m \u001b[38;5;28;01mfrom\u001b[39;00m \u001b[38;5;21;01muniswappy\u001b[39;00m\u001b[38;5;21;01m.\u001b[39;00m\u001b[38;5;21;01mutils\u001b[39;00m\u001b[38;5;21;01m.\u001b[39;00m\u001b[38;5;21;01minterfaces\u001b[39;00m \u001b[38;5;28;01mimport\u001b[39;00m \u001b[38;5;241m*\u001b[39m\n",
      "File \u001b[0;32m/Library/Frameworks/Python.framework/Versions/3.10/lib/python3.10/site-packages/uniswappy/analytics/simulate/__init__.py:2\u001b[0m\n\u001b[1;32m      1\u001b[0m \u001b[38;5;28;01mfrom\u001b[39;00m \u001b[38;5;21;01m.\u001b[39;00m\u001b[38;5;21;01mSolveDeltas\u001b[39;00m \u001b[38;5;28;01mimport\u001b[39;00m SolveDeltas\n\u001b[0;32m----> 2\u001b[0m \u001b[38;5;28;01mfrom\u001b[39;00m \u001b[38;5;21;01m.\u001b[39;00m\u001b[38;5;21;01mSimpleLPSimulation\u001b[39;00m \u001b[38;5;28;01mimport\u001b[39;00m SimpleLPSimulation\n\u001b[1;32m      3\u001b[0m \u001b[38;5;28;01mfrom\u001b[39;00m \u001b[38;5;21;01m.\u001b[39;00m\u001b[38;5;21;01mMarkovState\u001b[39;00m \u001b[38;5;28;01mimport\u001b[39;00m MarkovState\n\u001b[1;32m      4\u001b[0m \u001b[38;5;28;01mfrom\u001b[39;00m \u001b[38;5;21;01m.\u001b[39;00m\u001b[38;5;21;01mArbitrage\u001b[39;00m \u001b[38;5;28;01mimport\u001b[39;00m Arbitrage\n",
      "File \u001b[0;32m/Library/Frameworks/Python.framework/Versions/3.10/lib/python3.10/site-packages/uniswappy/analytics/simulate/SimpleLPSimulation.py:18\u001b[0m\n\u001b[1;32m     16\u001b[0m \u001b[38;5;28;01mfrom\u001b[39;00m \u001b[38;5;21;01m.\u001b[39;00m\u001b[38;5;21;01m.\u001b[39;00m\u001b[38;5;21;01m.\u001b[39;00m\u001b[38;5;21;01mutils\u001b[39;00m\u001b[38;5;21;01m.\u001b[39;00m\u001b[38;5;21;01mdata\u001b[39;00m \u001b[38;5;28;01mimport\u001b[39;00m UniswapExchangeData\n\u001b[1;32m     17\u001b[0m \u001b[38;5;28;01mfrom\u001b[39;00m \u001b[38;5;21;01m.\u001b[39;00m\u001b[38;5;21;01m.\u001b[39;00m\u001b[38;5;21;01m.\u001b[39;00m\u001b[38;5;21;01mcpt\u001b[39;00m\u001b[38;5;21;01m.\u001b[39;00m\u001b[38;5;21;01mfactory\u001b[39;00m \u001b[38;5;28;01mimport\u001b[39;00m UniswapFactory\n\u001b[0;32m---> 18\u001b[0m \u001b[38;5;28;01mfrom\u001b[39;00m \u001b[38;5;21;01m.\u001b[39;00m\u001b[38;5;21;01m.\u001b[39;00m\u001b[38;5;21;01m.\u001b[39;00m\u001b[38;5;21;01msimulate\u001b[39;00m \u001b[38;5;28;01mimport\u001b[39;00m SolveDeltas\n\u001b[1;32m     19\u001b[0m \u001b[38;5;28;01mfrom\u001b[39;00m \u001b[38;5;21;01m.\u001b[39;00m\u001b[38;5;21;01m.\u001b[39;00m\u001b[38;5;21;01m.\u001b[39;00m\u001b[38;5;21;01mprocess\u001b[39;00m\u001b[38;5;21;01m.\u001b[39;00m\u001b[38;5;21;01mdeposit\u001b[39;00m \u001b[38;5;28;01mimport\u001b[39;00m SwapDeposit\n\u001b[1;32m     20\u001b[0m \u001b[38;5;28;01mfrom\u001b[39;00m \u001b[38;5;21;01m.\u001b[39;00m\u001b[38;5;21;01m.\u001b[39;00m\u001b[38;5;21;01m.\u001b[39;00m\u001b[38;5;21;01mprocess\u001b[39;00m\u001b[38;5;21;01m.\u001b[39;00m\u001b[38;5;21;01mswap\u001b[39;00m \u001b[38;5;28;01mimport\u001b[39;00m WithdrawSwap\n",
      "\u001b[0;31mModuleNotFoundError\u001b[0m: No module named 'uniswappy.simulate'"
     ]
    }
   ],
   "source": [
    "from defipy import *"
   ]
  },
  {
   "cell_type": "code",
   "execution_count": null,
   "id": "6ca15a1a-454b-4a9c-9654-25d820fcf8f8",
   "metadata": {},
   "outputs": [],
   "source": [
    "user_nm = 'user_test'\n",
    "\n",
    "AMPL_COEFF = 2000 \n",
    "\n",
    "amt_dai = 79566307.559825807715868071\n",
    "decimal_dai = 18\n",
    "\n",
    "amt_usdc = 81345068.187939\n",
    "decimal_usdc = 6\n",
    "\n",
    "amt_usdt = 55663250.772939\n",
    "decimal_usdt = 6"
   ]
  },
  {
   "cell_type": "code",
   "execution_count": null,
   "id": "532ff01b-72f3-43ef-b0c2-61d9687c698b",
   "metadata": {},
   "outputs": [],
   "source": [
    "dai = ERC20(\"DAI\", \"0xA0b\", decimal_dai)\n",
    "dai.deposit(None, amt_dai)\n",
    "\n",
    "usdc = ERC20(\"USDC\", \"0xf93\", decimal_usdc)\n",
    "usdc.deposit(None, amt_usdc)\n",
    "\n",
    "usdt = ERC20(\"USDT\", \"0xd7c\", decimal_usdt)\n",
    "usdt.deposit(None, amt_usdt)\n",
    "\n",
    "sgrp = StableswapVault()\n",
    "sgrp.add_token(dai)\n",
    "sgrp.add_token(usdc)\n",
    "sgrp.add_token(usdt)"
   ]
  },
  {
   "cell_type": "markdown",
   "id": "b623b03d-268a-4e0d-b3f2-f4dac8270e98",
   "metadata": {},
   "source": [
    "### Join()"
   ]
  },
  {
   "cell_type": "code",
   "execution_count": null,
   "id": "b265661f-be2a-4db1-a92c-97b37e464c54",
   "metadata": {},
   "outputs": [],
   "source": [
    "sfactory = StableswapFactory(\"Pool factory\", \"0x2\")\n",
    "exchg_data = StableswapExchangeData(vault = sgrp, symbol=\"LP\", address=\"0x011\")\n",
    "lp = sfactory.deploy(exchg_data)\n",
    "\n",
    "Join().apply(lp, user_nm, AMPL_COEFF)\n",
    "lp.summary()"
   ]
  },
  {
   "cell_type": "markdown",
   "id": "2c714b13-9903-49df-a911-60f951df3be0",
   "metadata": {},
   "source": [
    "### Swap()"
   ]
  },
  {
   "cell_type": "code",
   "execution_count": null,
   "id": "63f26802-86e2-434d-a6ac-f96bc04c1d7c",
   "metadata": {},
   "outputs": [],
   "source": [
    "usdc_before = lp.get_reserve(usdc)\n",
    "usdt_before = lp.get_reserve(usdt)\n",
    "\n",
    "amt_tkn_in = 10000\n",
    "tkn_in = usdc\n",
    "tkn_out = usdt\n",
    "res = Swap().apply(lp, tkn_in, tkn_out, user_nm, amt_tkn_in)\n",
    "lp.summary()\n",
    "\n",
    "print(f\"{amt_tkn_in} {tkn_in.token_name} was swapped for {res['tkn_out_amt']} {tkn_out.token_name}\")"
   ]
  },
  {
   "cell_type": "code",
   "execution_count": null,
   "id": "7a47fbfc-49bb-48e8-8343-e3c7095c82cb",
   "metadata": {},
   "outputs": [],
   "source": [
    "usdc_before = lp.get_reserve(usdc)\n",
    "dai_before = lp.get_reserve(dai)\n",
    "\n",
    "amt_tkn_in = 10000\n",
    "tkn_in = usdc\n",
    "tkn_out = dai\n",
    "res = Swap().apply(lp, tkn_in, tkn_out, user_nm, amt_tkn_in)\n",
    "lp.summary()\n",
    "\n",
    "print(f\"{amt_tkn_in} {tkn_in.token_name} was swapped for {res['tkn_out_amt']} {tkn_out.token_name}\")"
   ]
  },
  {
   "cell_type": "markdown",
   "id": "0bbea189-fec2-4055-8641-fecc00f24604",
   "metadata": {},
   "source": [
    "### AddLiquidity()"
   ]
  },
  {
   "cell_type": "code",
   "execution_count": null,
   "id": "1403c46a-71d8-4812-8431-0632c977d9e4",
   "metadata": {},
   "outputs": [],
   "source": [
    "usdt_before = lp.get_reserve(usdt)\n",
    "\n",
    "amt_tkn_in = 10000\n",
    "tkn_in = usdt\n",
    "res = AddLiquidity().apply(lp, tkn_in, user_nm, amt_tkn_in)\n",
    "lp.summary()\n",
    "\n",
    "print(f\"{amt_tkn_in} {tkn_in.token_name} was deposited for {res['liquidity_amt_in']} LP tokens\")"
   ]
  },
  {
   "cell_type": "code",
   "execution_count": null,
   "id": "f1079772-92ad-4cf6-bc75-01cc7c876d24",
   "metadata": {},
   "outputs": [],
   "source": [
    "usdt_before = lp.get_reserve(usdt)\n",
    "amt_tkn_in = 10000\n",
    "tkn_in = dai\n",
    "\n",
    "res = AddLiquidity().apply(lp, tkn_in, user_nm, amt_tkn_in)\n",
    "lp.summary()\n",
    "\n",
    "print(f\"{amt_tkn_in} {tkn_in.token_name} was deposited for {res['liquidity_amt_in']} LP tokens\")"
   ]
  },
  {
   "cell_type": "markdown",
   "id": "fb2a8ac8-1d93-4405-b1ba-732aab019e6b",
   "metadata": {},
   "source": [
    "### RemoveLiquidity()"
   ]
  },
  {
   "cell_type": "code",
   "execution_count": null,
   "id": "bda2279a-e93c-406e-aa3a-ee5ab751c5b9",
   "metadata": {},
   "outputs": [],
   "source": [
    "amt_lp_out = 250000\n",
    "tkn_out = dai\n",
    "dai_before = lp.get_reserve(dai)\n",
    "lp_amt_before = lp.total_supply\n",
    "\n",
    "res = RemoveLiquidity().apply(lp, tkn_out, user_nm, amt_lp_out)\n",
    "lp.summary()\n",
    "\n",
    "print(f\"{amt_lp_out} LP tokens as removed for {res['tkn_out_amt']} {tkn_out.token_name}\")"
   ]
  },
  {
   "cell_type": "code",
   "execution_count": null,
   "id": "d069675d-1a18-40fd-bee7-0f3d51caa4db",
   "metadata": {},
   "outputs": [],
   "source": [
    "amt_lp_out = 500000\n",
    "tkn_out = usdt\n",
    "usdt_before = lp.get_reserve(usdt)\n",
    "lp_amt_before = lp.total_supply\n",
    "\n",
    "res = RemoveLiquidity().apply(lp, tkn_out, user_nm, amt_lp_out)\n",
    "lp.summary()\n",
    "\n",
    "print(f\"{amt_lp_out} LP tokens as removed for {res['tkn_out_amt']} {tkn_out.token_name}\")"
   ]
  }
 ],
 "metadata": {
  "kernelspec": {
   "display_name": "Python 3 (ipykernel)",
   "language": "python",
   "name": "python3"
  },
  "language_info": {
   "codemirror_mode": {
    "name": "ipython",
    "version": 3
   },
   "file_extension": ".py",
   "mimetype": "text/x-python",
   "name": "python",
   "nbconvert_exporter": "python",
   "pygments_lexer": "ipython3",
   "version": "3.10.0rc2"
  }
 },
 "nbformat": 4,
 "nbformat_minor": 5
}
