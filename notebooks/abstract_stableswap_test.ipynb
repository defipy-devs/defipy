{
 "cells": [
  {
   "cell_type": "markdown",
   "id": "ddb6f8a0-a2e1-47f8-95d1-784294d830c1",
   "metadata": {},
   "source": [
    "# Abstract Interface: Stableswap\n",
    "\n",
    "**Join()**: joins X and Y amounts to pool <br>\n",
    "**Swap()**: swaps X for Y (and vice verse) via out-given-in or in-given-out<br>\n",
    "**AddLiquidity()**: adds liquidity using token or share amounts <br>\n",
    "**RemoveLiquidity()**: removes liquidity using token or share amounts <br>"
   ]
  },
  {
   "cell_type": "code",
   "execution_count": 1,
   "id": "36629404-bfd1-411c-a5ff-db3e8a464716",
   "metadata": {},
   "outputs": [],
   "source": [
    "from defipy import *"
   ]
  },
  {
   "cell_type": "code",
   "execution_count": 2,
   "id": "6ca15a1a-454b-4a9c-9654-25d820fcf8f8",
   "metadata": {},
   "outputs": [],
   "source": [
    "user_nm = 'user_test'\n",
    "\n",
    "AMPL_COEFF = 2000 \n",
    "\n",
    "amt_dai = 79566307.559825807715868071\n",
    "decimal_dai = 18\n",
    "\n",
    "amt_usdc = 81345068.187939\n",
    "decimal_usdc = 6\n",
    "\n",
    "amt_usdt = 55663250.772939\n",
    "decimal_usdt = 6"
   ]
  },
  {
   "cell_type": "code",
   "execution_count": 3,
   "id": "532ff01b-72f3-43ef-b0c2-61d9687c698b",
   "metadata": {},
   "outputs": [],
   "source": [
    "dai = ERC20(\"DAI\", \"0xA0b\", decimal_dai)\n",
    "dai.deposit(None, amt_dai)\n",
    "\n",
    "usdc = ERC20(\"USDC\", \"0xf93\", decimal_usdc)\n",
    "usdc.deposit(None, amt_usdc)\n",
    "\n",
    "usdt = ERC20(\"USDT\", \"0xd7c\", decimal_usdt)\n",
    "usdt.deposit(None, amt_usdt)\n",
    "\n",
    "sgrp = StableswapVault()\n",
    "sgrp.add_token(dai)\n",
    "sgrp.add_token(usdc)\n",
    "sgrp.add_token(usdt)"
   ]
  },
  {
   "cell_type": "markdown",
   "id": "b623b03d-268a-4e0d-b3f2-f4dac8270e98",
   "metadata": {},
   "source": [
    "### Join()"
   ]
  },
  {
   "cell_type": "code",
   "execution_count": 4,
   "id": "b265661f-be2a-4db1-a92c-97b37e464c54",
   "metadata": {},
   "outputs": [
    {
     "name": "stdout",
     "output_type": "stream",
     "text": [
      "Stableswap Exchange: DAI-USDC-USDT (LP)\n",
      "Reserves: DAI = 79566307.55982581, USDC = 81345068.187939, USDT = 55663250.772939\n",
      "Liquidity: 216573027.91811988 \n",
      "\n"
     ]
    }
   ],
   "source": [
    "sfactory = StableswapFactory(\"Pool factory\", \"0x2\")\n",
    "exchg_data = StableswapExchangeData(vault = sgrp, symbol=\"LP\", address=\"0x011\")\n",
    "lp = sfactory.deploy(exchg_data)\n",
    "\n",
    "Join().apply(lp, user_nm, AMPL_COEFF)\n",
    "lp.summary()"
   ]
  },
  {
   "cell_type": "markdown",
   "id": "2c714b13-9903-49df-a911-60f951df3be0",
   "metadata": {},
   "source": [
    "### Swap()"
   ]
  },
  {
   "cell_type": "code",
   "execution_count": 5,
   "id": "63f26802-86e2-434d-a6ac-f96bc04c1d7c",
   "metadata": {},
   "outputs": [
    {
     "name": "stdout",
     "output_type": "stream",
     "text": [
      "Stableswap Exchange: DAI-USDC-USDT (LP)\n",
      "Reserves: DAI = 79566307.55982581, USDC = 81355068.187939, USDT = 55653253.910191\n",
      "Liquidity: 216573027.91811988 \n",
      "\n",
      "10000 USDC was swapped for 9996.862748 USDT\n"
     ]
    }
   ],
   "source": [
    "usdc_before = lp.get_reserve(usdc)\n",
    "usdt_before = lp.get_reserve(usdt)\n",
    "\n",
    "amt_tkn_in = 10000\n",
    "tkn_in = usdc\n",
    "tkn_out = usdt\n",
    "res = Swap().apply(lp, tkn_in, tkn_out, user_nm, amt_tkn_in)\n",
    "lp.summary()\n",
    "\n",
    "print(f\"{amt_tkn_in} {tkn_in.token_name} was swapped for {res['tkn_out_amt']} {tkn_out.token_name}\")"
   ]
  },
  {
   "cell_type": "code",
   "execution_count": 6,
   "id": "7a47fbfc-49bb-48e8-8343-e3c7095c82cb",
   "metadata": {},
   "outputs": [
    {
     "name": "stdout",
     "output_type": "stream",
     "text": [
      "Stableswap Exchange: DAI-USDC-USDT (LP)\n",
      "Reserves: DAI = 79556308.6645169, USDC = 81365068.187939, USDT = 55653253.910191\n",
      "Liquidity: 216573027.91811988 \n",
      "\n",
      "10000 USDC was swapped for 9998.895308918858 DAI\n"
     ]
    }
   ],
   "source": [
    "usdc_before = lp.get_reserve(usdc)\n",
    "dai_before = lp.get_reserve(dai)\n",
    "\n",
    "amt_tkn_in = 10000\n",
    "tkn_in = usdc\n",
    "tkn_out = dai\n",
    "res = Swap().apply(lp, tkn_in, tkn_out, user_nm, amt_tkn_in)\n",
    "lp.summary()\n",
    "\n",
    "print(f\"{amt_tkn_in} {tkn_in.token_name} was swapped for {res['tkn_out_amt']} {tkn_out.token_name}\")"
   ]
  },
  {
   "cell_type": "markdown",
   "id": "0bbea189-fec2-4055-8641-fecc00f24604",
   "metadata": {},
   "source": [
    "### AddLiquidity()"
   ]
  },
  {
   "cell_type": "code",
   "execution_count": 7,
   "id": "1403c46a-71d8-4812-8431-0632c977d9e4",
   "metadata": {},
   "outputs": [
    {
     "name": "stdout",
     "output_type": "stream",
     "text": [
      "Stableswap Exchange: DAI-USDC-USDT (LP)\n",
      "Reserves: DAI = 79556308.6645169, USDC = 81365068.187939, USDT = 55663253.910191\n",
      "Liquidity: 216583028.83723688 \n",
      "\n",
      "10000 USDT was deposited for 10000.919116999057 LP tokens\n"
     ]
    }
   ],
   "source": [
    "usdt_before = lp.get_reserve(usdt)\n",
    "\n",
    "amt_tkn_in = 10000\n",
    "tkn_in = usdt\n",
    "res = AddLiquidity().apply(lp, tkn_in, user_nm, amt_tkn_in)\n",
    "lp.summary()\n",
    "\n",
    "print(f\"{amt_tkn_in} {tkn_in.token_name} was deposited for {res['liquidity_amt_in']} LP tokens\")"
   ]
  },
  {
   "cell_type": "code",
   "execution_count": 8,
   "id": "f1079772-92ad-4cf6-bc75-01cc7c876d24",
   "metadata": {},
   "outputs": [
    {
     "name": "stdout",
     "output_type": "stream",
     "text": [
      "Stableswap Exchange: DAI-USDC-USDT (LP)\n",
      "Reserves: DAI = 79566308.6645169, USDC = 81365068.187939, USDT = 55663253.910191\n",
      "Liquidity: 216593027.8056816 \n",
      "\n",
      "10000 DAI was deposited for 9998.968444705135 LP tokens\n"
     ]
    }
   ],
   "source": [
    "usdt_before = lp.get_reserve(usdt)\n",
    "amt_tkn_in = 10000\n",
    "tkn_in = dai\n",
    "\n",
    "res = AddLiquidity().apply(lp, tkn_in, user_nm, amt_tkn_in)\n",
    "lp.summary()\n",
    "\n",
    "print(f\"{amt_tkn_in} {tkn_in.token_name} was deposited for {res['liquidity_amt_in']} LP tokens\")"
   ]
  },
  {
   "cell_type": "markdown",
   "id": "fb2a8ac8-1d93-4405-b1ba-732aab019e6b",
   "metadata": {},
   "source": [
    "### RemoveLiquidity()"
   ]
  },
  {
   "cell_type": "code",
   "execution_count": 9,
   "id": "bda2279a-e93c-406e-aa3a-ee5ab751c5b9",
   "metadata": {},
   "outputs": [
    {
     "name": "stdout",
     "output_type": "stream",
     "text": [
      "Stableswap Exchange: DAI-USDC-USDT (LP)\n",
      "Reserves: DAI = 79316306.72151607, USDC = 81365068.187939, USDT = 55663253.910191\n",
      "Liquidity: 216343027.8056816 \n",
      "\n",
      "250000 LP tokens as removed for 250001.94300082736 DAI\n"
     ]
    }
   ],
   "source": [
    "amt_lp_out = 250000\n",
    "tkn_out = dai\n",
    "dai_before = lp.get_reserve(dai)\n",
    "lp_amt_before = lp.total_supply\n",
    "\n",
    "res = RemoveLiquidity().apply(lp, tkn_out, user_nm, amt_lp_out)\n",
    "lp.summary()\n",
    "\n",
    "print(f\"{amt_lp_out} LP tokens as removed for {res['tkn_out_amt']} {tkn_out.token_name}\")"
   ]
  },
  {
   "cell_type": "code",
   "execution_count": 10,
   "id": "d069675d-1a18-40fd-bee7-0f3d51caa4db",
   "metadata": {},
   "outputs": [
    {
     "name": "stdout",
     "output_type": "stream",
     "text": [
      "Stableswap Exchange: DAI-USDC-USDT (LP)\n",
      "Reserves: DAI = 79316306.72151607, USDC = 81365068.187939, USDT = 55163356.268067\n",
      "Liquidity: 215843027.8056816 \n",
      "\n",
      "500000 LP tokens as removed for 499897.642124 USDT\n"
     ]
    }
   ],
   "source": [
    "amt_lp_out = 500000\n",
    "tkn_out = usdt\n",
    "usdt_before = lp.get_reserve(usdt)\n",
    "lp_amt_before = lp.total_supply\n",
    "\n",
    "res = RemoveLiquidity().apply(lp, tkn_out, user_nm, amt_lp_out)\n",
    "lp.summary()\n",
    "\n",
    "print(f\"{amt_lp_out} LP tokens as removed for {res['tkn_out_amt']} {tkn_out.token_name}\")"
   ]
  }
 ],
 "metadata": {
  "kernelspec": {
   "display_name": "Python 3 (ipykernel)",
   "language": "python",
   "name": "python3"
  },
  "language_info": {
   "codemirror_mode": {
    "name": "ipython",
    "version": 3
   },
   "file_extension": ".py",
   "mimetype": "text/x-python",
   "name": "python",
   "nbconvert_exporter": "python",
   "pygments_lexer": "ipython3",
   "version": "3.10.0rc2"
  }
 },
 "nbformat": 4,
 "nbformat_minor": 5
}
