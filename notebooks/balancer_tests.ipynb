{
 "cells": [
  {
   "cell_type": "markdown",
   "id": "2f4fa7fa-9d64-46c6-b3bd-1e07755e54f9",
   "metadata": {},
   "source": [
    "## Basic Weighted Pool Testing and Overview\n",
    "* Python implementation of Balancer Weighted Pools 'broadly' consists of two main components\n",
    "    * BalancerMath.py: refactor of [Balancer V1 Math solidity contract code](https://github.com/balancer/balancer-core/blob/master/contracts/BMath.sol), and was copied  from [BalancerPools_Model GH repos](https://github.com/TokenEngineeringCommunity/BalancerPools_Model/blob/main/model/parts/balancer_math.py)\n",
    "    * BalancerExchange.py: refactor of [Balancer Pool solidity contract code](https://github.com/balancer/balancer-core/blob/master/contracts/BPool.sol)\n",
    "* The mapping (contract code -> math refactor -> exchange refactor) is as follows:\n",
    "    * **Price**\n",
    "        * BMath.calcSpotPrice() -> BalancerMath.calc_spot_price() -> BalancerExchange.get_price()\n",
    "    * **Swapping**    \n",
    "        * BMath.calcOutGivenIn() -> BalancerMath.calc_out_given_in() -> BalancerExchange.get_amount_out()\n",
    "        * BMath.calcInGivenOut() -> BalancerMath.calc_in_given_out() -> BalancerExchange.get_amount_in()\n",
    "    * **Adding Liquidity**    \n",
    "        * BMath.calcPoolOutGivenSingleIn() -> BalancerMath.calc_pool_out_given_single_in() -> BalancerExchange.join_swap_extern_amount_in()    \n",
    "        * BMath.calcSingleInGivenPoolOut() -> BalancerMath.calc_single_in_given_pool_out() -> BalancerExchange.join_swap_pool_amount_out()\n",
    "    * **Removing Liquidity**     \n",
    "        * BMath.calcPoolInGivenSingleOut() -> BalancerMath.calc_pool_in_given_single_out() -> BalancerExchange.exit_swap_extern_amount_out()\n",
    "        * BMath.calcSingleOutGivenPoolIn() ->  BalancerMath.calc_single_out_given_pool_in() -> BalancerExchange.exit_swap_pool_amount_in()"
   ]
  },
  {
   "cell_type": "code",
   "execution_count": 1,
   "id": "aebe334d-b4ec-4931-86f7-4927f9d3958a",
   "metadata": {},
   "outputs": [],
   "source": [
    "import os\n",
    "import json\n",
    "import numpy as np"
   ]
  },
  {
   "cell_type": "code",
   "execution_count": 2,
   "id": "536c043c-b6e4-4de6-b044-af9fa1dc774e",
   "metadata": {},
   "outputs": [],
   "source": [
    "from defipy import *"
   ]
  },
  {
   "cell_type": "markdown",
   "id": "c0151e40-f566-4d16-aacc-4ffbd5a94000",
   "metadata": {},
   "source": [
    "### Benchmarks \n",
    "* Tests extracted from [BalancerPools_Model GH repos](https://github.com/TokenEngineeringCommunity/BalancerPools_Model)"
   ]
  },
  {
   "cell_type": "code",
   "execution_count": 3,
   "id": "47da19ad-ed63-481a-9e78-537d1c3d9417",
   "metadata": {},
   "outputs": [],
   "source": [
    "cwd =  os.getcwd().replace(\"notebooks\",\"\")\n",
    "os.chdir(cwd)\n",
    "actions_json = 'resources/dev/cwpt/0x8b6e6e7b5b3801fed2cafd4b22b8a16c2f2db21a-actions-prices.json'\n",
    "with open(actions_json, \"r\") as f:\n",
    "    pool_actions = json.load(f)"
   ]
  },
  {
   "cell_type": "markdown",
   "id": "87e5753e-c52b-4793-95b5-107a31159460",
   "metadata": {},
   "source": [
    "### Parameters\n",
    "* Denorm weights are [loosely selected as target percentages by the contract deployer](https://www.bankless.com/how-to-create-your-own-balancer-pool)\n",
    "* Percentage weights are normalized (to sum to 1) and are calculated based on denormalized weights\n",
    "* Shares are typically initialized to 100"
   ]
  },
  {
   "cell_type": "code",
   "execution_count": 4,
   "id": "30e89e21-a0d0-4c86-8f6e-00f562248701",
   "metadata": {},
   "outputs": [],
   "source": [
    "USER = 'user_test'\n",
    "\n",
    "amt_dai = 10000000\n",
    "denorm_wt_dai = 10\n",
    "\n",
    "amt_eth = 67738.6361731024\n",
    "denorm_wt_eth = 40\n",
    "\n",
    "init_pool_shares = 100"
   ]
  },
  {
   "cell_type": "markdown",
   "id": "6078f99b-3d99-4335-a647-f0cd049d5e45",
   "metadata": {},
   "source": [
    "### Join balancer pool\n",
    "* Join all assets"
   ]
  },
  {
   "cell_type": "code",
   "execution_count": 5,
   "id": "fd36bda0-8d90-412a-a64d-8ab52d926ba7",
   "metadata": {},
   "outputs": [
    {
     "name": "stdout",
     "output_type": "stream",
     "text": [
      "Balancer Exchange: DAI-WETH (LP)\n",
      "Reserves: DAI = 10000000, WETH = 67738.6361731024\n",
      "Weights: DAI = 0.2, WETH = 0.8\n",
      "Pool Shares: 100 \n",
      "\n"
     ]
    }
   ],
   "source": [
    "dai = ERC20(\"DAI\", \"0x111\")\n",
    "dai.deposit(None, amt_dai)\n",
    "\n",
    "weth = ERC20(\"WETH\", \"0x09\")\n",
    "weth.deposit(None, amt_eth)\n",
    "\n",
    "bgrp = BalancerVault()\n",
    "bgrp.add_token(dai, denorm_wt_dai)\n",
    "bgrp.add_token(weth, denorm_wt_eth)\n",
    "\n",
    "bfactory = BalancerFactory(\"WETH pool factory\", \"0x2\")\n",
    "exchg_data = BalancerExchangeData(vault = bgrp, symbol=\"LP\", address=\"0x011\")\n",
    "lp = bfactory.deploy(exchg_data)\n",
    "lp.join_pool(bgrp, init_pool_shares, USER)\n",
    "lp.summary()"
   ]
  },
  {
   "cell_type": "markdown",
   "id": "a944df69-2398-4619-9db1-46113483e1d3",
   "metadata": {},
   "source": [
    "### Price"
   ]
  },
  {
   "cell_type": "code",
   "execution_count": 6,
   "id": "9abfed35-f7f3-4649-b79f-de3f0c744f92",
   "metadata": {},
   "outputs": [
    {
     "name": "stdout",
     "output_type": "stream",
     "text": [
      "The price of WETH is 591.984912776992 DAI\n"
     ]
    }
   ],
   "source": [
    "p = lp.get_price(dai, weth)\n",
    "\n",
    "print(f\"The price of {weth.token_name} is {p} {dai.token_name}\")"
   ]
  },
  {
   "cell_type": "markdown",
   "id": "cf55dc7d-92a4-4a51-8180-79661de7fa5d",
   "metadata": {},
   "source": [
    "### Swap (out-given-in)"
   ]
  },
  {
   "cell_type": "code",
   "execution_count": 7,
   "id": "08b23c80-2ad5-4580-8198-2d677a53597b",
   "metadata": {},
   "outputs": [
    {
     "name": "stdout",
     "output_type": "stream",
     "text": [
      "11861.328308361 DAI was swapped into 20.021734704865246 WETH\n"
     ]
    }
   ],
   "source": [
    "amt_tkn_in = float(pool_actions[3]['action']['token_in']['amount'])\n",
    "tkn_in = dai\n",
    "tkn_out = weth\n",
    "res = lp.swap_exact_amount_in(amt_tkn_in, tkn_in, tkn_out, USER)\n",
    "\n",
    "print(f\"{amt_tkn_in} {tkn_in.token_name} was swapped into {res['tkn_out_amt']} {tkn_out.token_name}\")"
   ]
  },
  {
   "cell_type": "code",
   "execution_count": 8,
   "id": "f145bcba-59b7-46b4-941e-56d96f0af5ed",
   "metadata": {},
   "outputs": [
    {
     "name": "stdout",
     "output_type": "stream",
     "text": [
      "Balancer Exchange: DAI-WETH (LP)\n",
      "Reserves: DAI = 10011861.32830836, WETH = 67718.61443839753\n",
      "Weights: DAI = 0.2, WETH = 0.8\n",
      "Pool Shares: 100 \n",
      "\n"
     ]
    }
   ],
   "source": [
    "lp.summary()"
   ]
  },
  {
   "cell_type": "markdown",
   "id": "6cdebb4d-4b9f-49e2-bd0a-9f31a1d15244",
   "metadata": {},
   "source": [
    "### Swap (in-given-out)"
   ]
  },
  {
   "cell_type": "code",
   "execution_count": 9,
   "id": "fc6b2577-8869-4345-a2a8-5d4995f6e3a8",
   "metadata": {},
   "outputs": [
    {
     "name": "stdout",
     "output_type": "stream",
     "text": [
      "20.021734704865246 WETH was swapped into 11878.911104285744 DAI\n"
     ]
    }
   ],
   "source": [
    "amt_tkn_out = res['tkn_out_amt']\n",
    "tkn_out = weth\n",
    "tkn_in = dai\n",
    "\n",
    "res = lp.swap_exact_amount_out(amt_tkn_out, tkn_out, tkn_in, USER)\n",
    "\n",
    "print(f\"{amt_tkn_out} {tkn_out.token_name} was swapped into {res['tkn_in_amt']} {tkn_in.token_name}\")"
   ]
  },
  {
   "cell_type": "code",
   "execution_count": 10,
   "id": "bcc23a87-7271-46a9-ad5e-f006e65db19c",
   "metadata": {},
   "outputs": [
    {
     "name": "stdout",
     "output_type": "stream",
     "text": [
      "Balancer Exchange: DAI-WETH (LP)\n",
      "Reserves: DAI = 9999982.417204075, WETH = 67738.6361731024\n",
      "Weights: DAI = 0.2, WETH = 0.8\n",
      "Pool Shares: 100 \n",
      "\n"
     ]
    }
   ],
   "source": [
    "lp.summary()"
   ]
  },
  {
   "cell_type": "markdown",
   "id": "d6dc1b2f-8908-46c8-bca9-559f5f365903",
   "metadata": {},
   "source": [
    "### Add liquidity (based on token amounts)"
   ]
  },
  {
   "cell_type": "code",
   "execution_count": 11,
   "id": "18a7dfef-4aa2-4fd1-b348-3c607fe8cb79",
   "metadata": {},
   "outputs": [
    {
     "name": "stdout",
     "output_type": "stream",
     "text": [
      "26.741601415598677 WETH was added resulting in anadditional 0.03156505964916199 LP shares\n"
     ]
    }
   ],
   "source": [
    "tkn_in = weth\n",
    "amt_tkn_in = float(pool_actions[336]['action']['token_in']['amount'])\n",
    "\n",
    "res = lp.join_swap_extern_amount_in(amt_tkn_in, tkn_in, USER)\n",
    "\n",
    "print(f\"{amt_tkn_in} {tkn_in.token_name} was added resulting in anadditional {res['shares_in_amt']} LP shares\")"
   ]
  },
  {
   "cell_type": "code",
   "execution_count": 12,
   "id": "f6ae2c0b-1e9f-4fc8-a406-211d89e5a82b",
   "metadata": {},
   "outputs": [
    {
     "name": "stdout",
     "output_type": "stream",
     "text": [
      "Balancer Exchange: DAI-WETH (LP)\n",
      "Reserves: DAI = 9999982.417204075, WETH = 67765.377774518\n",
      "Weights: DAI = 0.2, WETH = 0.8\n",
      "Pool Shares: 100.03156505964917 \n",
      "\n"
     ]
    }
   ],
   "source": [
    "lp.summary()"
   ]
  },
  {
   "cell_type": "markdown",
   "id": "301d4338-2d30-49db-aafc-105f36afc517",
   "metadata": {},
   "source": [
    "### Add liquidity (based on LP share amounts)"
   ]
  },
  {
   "cell_type": "code",
   "execution_count": 13,
   "id": "59a949de-a165-4b43-b117-96ccffd37c8c",
   "metadata": {},
   "outputs": [
    {
     "name": "stdout",
     "output_type": "stream",
     "text": [
      "10 LP shares were added resulting in an additional 8575.568763821291 WETH\n"
     ]
    }
   ],
   "source": [
    "tkn_in = weth\n",
    "amt_shares_in = 10\n",
    "\n",
    "res = lp.join_swap_pool_amount_out(amt_shares_in, tkn_in, USER)\n",
    "\n",
    "print(f\"{amt_shares_in} LP shares were added resulting in an additional {res['tkn_in_amt']} {tkn_in.token_name}\")"
   ]
  },
  {
   "cell_type": "code",
   "execution_count": 14,
   "id": "63553477-1d9a-4079-9ba5-22c5749b6fa8",
   "metadata": {},
   "outputs": [
    {
     "name": "stdout",
     "output_type": "stream",
     "text": [
      "Balancer Exchange: DAI-WETH (LP)\n",
      "Reserves: DAI = 9999982.417204075, WETH = 76340.94653833928\n",
      "Weights: DAI = 0.2, WETH = 0.8\n",
      "Pool Shares: 110.03156505964917 \n",
      "\n"
     ]
    }
   ],
   "source": [
    "lp.summary()"
   ]
  },
  {
   "cell_type": "markdown",
   "id": "a8a9f7e6-c1f0-4ed5-9f3e-63f29edc11ee",
   "metadata": {},
   "source": [
    "### Remove liquidity (based on token amounts)"
   ]
  },
  {
   "cell_type": "code",
   "execution_count": 15,
   "id": "d4b18c62-9603-4a9f-8572-fd9a6c2c0730",
   "metadata": {},
   "outputs": [
    {
     "name": "stdout",
     "output_type": "stream",
     "text": [
      "27.036668416618735 WETH was removed resulting in the removal of 0.031191445644352424 LP shares\n"
     ]
    }
   ],
   "source": [
    "tkn_out = weth\n",
    "amt_tkn_out = float(pool_actions[664]['action']['token_out']['amount'])\n",
    "\n",
    "res = lp.exit_swap_extern_amount_out(amt_tkn_out, tkn_out, USER)\n",
    "\n",
    "print(f\"{amt_tkn_out} {tkn_out.token_name} was removed resulting in the removal of {res['shares_out_amt']} LP shares\")"
   ]
  },
  {
   "cell_type": "code",
   "execution_count": 16,
   "id": "32e239b7-cd5f-45f9-a464-4ecc0921a63a",
   "metadata": {},
   "outputs": [
    {
     "name": "stdout",
     "output_type": "stream",
     "text": [
      "Balancer Exchange: DAI-WETH (LP)\n",
      "Reserves: DAI = 9999982.417204075, WETH = 76313.90986992266\n",
      "Weights: DAI = 0.2, WETH = 0.8\n",
      "Pool Shares: 110.00037361400481 \n",
      "\n"
     ]
    }
   ],
   "source": [
    "lp.summary()"
   ]
  },
  {
   "cell_type": "markdown",
   "id": "5cc8119c-d1fc-4c1c-84b7-358c15d851c8",
   "metadata": {},
   "source": [
    "### Remove liquidity (based on LP share amounts)"
   ]
  },
  {
   "cell_type": "code",
   "execution_count": 17,
   "id": "28e9735c-f09e-46ba-b4bb-40591abbdad2",
   "metadata": {},
   "outputs": [
    {
     "name": "stdout",
     "output_type": "stream",
     "text": [
      "10 LP shares were removed resulting in the removal of 8566.8415530723 WETH\n"
     ]
    }
   ],
   "source": [
    "tkn_out = weth\n",
    "amt_shares_out = 10\n",
    "\n",
    "res = lp.exit_swap_pool_amount_in(amt_shares_out, tkn_out, USER)\n",
    "\n",
    "print(f\"{amt_shares_out} LP shares were removed resulting in the removal of {res['tkn_out_amt']} {tkn_out.token_name}\")"
   ]
  },
  {
   "cell_type": "code",
   "execution_count": 18,
   "id": "81882679-b1a2-4362-9cbf-1720b8eaa546",
   "metadata": {},
   "outputs": [
    {
     "name": "stdout",
     "output_type": "stream",
     "text": [
      "Balancer Exchange: DAI-WETH (LP)\n",
      "Reserves: DAI = 9999982.417204075, WETH = 67747.06831685036\n",
      "Weights: DAI = 0.2, WETH = 0.8\n",
      "Pool Shares: 100.00037361400481 \n",
      "\n"
     ]
    }
   ],
   "source": [
    "lp.summary()"
   ]
  }
 ],
 "metadata": {
  "kernelspec": {
   "display_name": "Python 3 (ipykernel)",
   "language": "python",
   "name": "python3"
  },
  "language_info": {
   "codemirror_mode": {
    "name": "ipython",
    "version": 3
   },
   "file_extension": ".py",
   "mimetype": "text/x-python",
   "name": "python",
   "nbconvert_exporter": "python",
   "pygments_lexer": "ipython3",
   "version": "3.10.0rc2"
  }
 },
 "nbformat": 4,
 "nbformat_minor": 5
}
