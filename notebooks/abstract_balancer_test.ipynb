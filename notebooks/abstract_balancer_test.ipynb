{
 "cells": [
  {
   "cell_type": "markdown",
   "id": "35a14348-e0e8-404f-a498-3777e80e1973",
   "metadata": {},
   "source": [
    "# Abstract Interface: Balancer\n",
    "\n",
    "**Join()**: joins X and Y amounts to pool <br>\n",
    "**Swap()**: swaps X for Y (and vice verse) via out-given-in or in-given-out<br>\n",
    "**AddLiquidity()**: adds liquidity using token or share amounts <br>\n",
    "**RemoveLiquidity()**: removes liquidity using token or share amounts <br>"
   ]
  },
  {
   "cell_type": "code",
   "execution_count": 1,
   "id": "08f8c24f-5811-4095-acfa-cbc816a98157",
   "metadata": {},
   "outputs": [
    {
     "ename": "ModuleNotFoundError",
     "evalue": "No module named 'uniswappy.simulate'",
     "output_type": "error",
     "traceback": [
      "\u001b[0;31m---------------------------------------------------------------------------\u001b[0m",
      "\u001b[0;31mModuleNotFoundError\u001b[0m                       Traceback (most recent call last)",
      "Cell \u001b[0;32mIn[1], line 1\u001b[0m\n\u001b[0;32m----> 1\u001b[0m \u001b[38;5;28;01mfrom\u001b[39;00m \u001b[38;5;21;01mdefipy\u001b[39;00m \u001b[38;5;28;01mimport\u001b[39;00m \u001b[38;5;241m*\u001b[39m\n",
      "File \u001b[0;32m/Library/Frameworks/Python.framework/Versions/3.10/lib/python3.10/site-packages/defipy/__init__.py:1\u001b[0m\n\u001b[0;32m----> 1\u001b[0m \u001b[38;5;28;01mfrom\u001b[39;00m \u001b[38;5;21;01mdefipy\u001b[39;00m\u001b[38;5;21;01m.\u001b[39;00m\u001b[38;5;21;01merc\u001b[39;00m \u001b[38;5;28;01mimport\u001b[39;00m \u001b[38;5;241m*\u001b[39m\n\u001b[1;32m      2\u001b[0m \u001b[38;5;28;01mfrom\u001b[39;00m \u001b[38;5;21;01mdefipy\u001b[39;00m\u001b[38;5;21;01m.\u001b[39;00m\u001b[38;5;21;01mmath\u001b[39;00m\u001b[38;5;21;01m.\u001b[39;00m\u001b[38;5;21;01mbasic\u001b[39;00m \u001b[38;5;28;01mimport\u001b[39;00m \u001b[38;5;241m*\u001b[39m\n\u001b[1;32m      3\u001b[0m \u001b[38;5;28;01mfrom\u001b[39;00m \u001b[38;5;21;01mdefipy\u001b[39;00m\u001b[38;5;21;01m.\u001b[39;00m\u001b[38;5;21;01mmath\u001b[39;00m\u001b[38;5;21;01m.\u001b[39;00m\u001b[38;5;21;01minterest\u001b[39;00m \u001b[38;5;28;01mimport\u001b[39;00m \u001b[38;5;241m*\u001b[39m\n",
      "File \u001b[0;32m/Library/Frameworks/Python.framework/Versions/3.10/lib/python3.10/site-packages/defipy/erc/__init__.py:1\u001b[0m\n\u001b[0;32m----> 1\u001b[0m \u001b[38;5;28;01mfrom\u001b[39;00m \u001b[38;5;21;01muniswappy\u001b[39;00m\u001b[38;5;21;01m.\u001b[39;00m\u001b[38;5;21;01merc\u001b[39;00m \u001b[38;5;28;01mimport\u001b[39;00m \u001b[38;5;241m*\u001b[39m\n",
      "File \u001b[0;32m/Library/Frameworks/Python.framework/Versions/3.10/lib/python3.10/site-packages/uniswappy/__init__.py:21\u001b[0m\n\u001b[1;32m     19\u001b[0m \u001b[38;5;28;01mfrom\u001b[39;00m \u001b[38;5;21;01muniswappy\u001b[39;00m\u001b[38;5;21;01m.\u001b[39;00m\u001b[38;5;21;01mprocess\u001b[39;00m\u001b[38;5;21;01m.\u001b[39;00m\u001b[38;5;21;01mswap\u001b[39;00m \u001b[38;5;28;01mimport\u001b[39;00m \u001b[38;5;241m*\u001b[39m\n\u001b[1;32m     20\u001b[0m \u001b[38;5;28;01mfrom\u001b[39;00m \u001b[38;5;21;01muniswappy\u001b[39;00m\u001b[38;5;21;01m.\u001b[39;00m\u001b[38;5;21;01mprocess\u001b[39;00m\u001b[38;5;21;01m.\u001b[39;00m\u001b[38;5;21;01mjoin\u001b[39;00m \u001b[38;5;28;01mimport\u001b[39;00m \u001b[38;5;241m*\u001b[39m\n\u001b[0;32m---> 21\u001b[0m \u001b[38;5;28;01mfrom\u001b[39;00m \u001b[38;5;21;01muniswappy\u001b[39;00m\u001b[38;5;21;01m.\u001b[39;00m\u001b[38;5;21;01manalytics\u001b[39;00m\u001b[38;5;21;01m.\u001b[39;00m\u001b[38;5;21;01msimulate\u001b[39;00m \u001b[38;5;28;01mimport\u001b[39;00m \u001b[38;5;241m*\u001b[39m\n\u001b[1;32m     22\u001b[0m \u001b[38;5;28;01mfrom\u001b[39;00m \u001b[38;5;21;01muniswappy\u001b[39;00m\u001b[38;5;21;01m.\u001b[39;00m\u001b[38;5;21;01manalytics\u001b[39;00m\u001b[38;5;21;01m.\u001b[39;00m\u001b[38;5;21;01mrisk\u001b[39;00m \u001b[38;5;28;01mimport\u001b[39;00m \u001b[38;5;241m*\u001b[39m\n\u001b[1;32m     23\u001b[0m \u001b[38;5;28;01mfrom\u001b[39;00m \u001b[38;5;21;01muniswappy\u001b[39;00m\u001b[38;5;21;01m.\u001b[39;00m\u001b[38;5;21;01mutils\u001b[39;00m\u001b[38;5;21;01m.\u001b[39;00m\u001b[38;5;21;01minterfaces\u001b[39;00m \u001b[38;5;28;01mimport\u001b[39;00m \u001b[38;5;241m*\u001b[39m\n",
      "File \u001b[0;32m/Library/Frameworks/Python.framework/Versions/3.10/lib/python3.10/site-packages/uniswappy/analytics/simulate/__init__.py:2\u001b[0m\n\u001b[1;32m      1\u001b[0m \u001b[38;5;28;01mfrom\u001b[39;00m \u001b[38;5;21;01m.\u001b[39;00m\u001b[38;5;21;01mSolveDeltas\u001b[39;00m \u001b[38;5;28;01mimport\u001b[39;00m SolveDeltas\n\u001b[0;32m----> 2\u001b[0m \u001b[38;5;28;01mfrom\u001b[39;00m \u001b[38;5;21;01m.\u001b[39;00m\u001b[38;5;21;01mSimpleLPSimulation\u001b[39;00m \u001b[38;5;28;01mimport\u001b[39;00m SimpleLPSimulation\n\u001b[1;32m      3\u001b[0m \u001b[38;5;28;01mfrom\u001b[39;00m \u001b[38;5;21;01m.\u001b[39;00m\u001b[38;5;21;01mMarkovState\u001b[39;00m \u001b[38;5;28;01mimport\u001b[39;00m MarkovState\n\u001b[1;32m      4\u001b[0m \u001b[38;5;28;01mfrom\u001b[39;00m \u001b[38;5;21;01m.\u001b[39;00m\u001b[38;5;21;01mArbitrage\u001b[39;00m \u001b[38;5;28;01mimport\u001b[39;00m Arbitrage\n",
      "File \u001b[0;32m/Library/Frameworks/Python.framework/Versions/3.10/lib/python3.10/site-packages/uniswappy/analytics/simulate/SimpleLPSimulation.py:18\u001b[0m\n\u001b[1;32m     16\u001b[0m \u001b[38;5;28;01mfrom\u001b[39;00m \u001b[38;5;21;01m.\u001b[39;00m\u001b[38;5;21;01m.\u001b[39;00m\u001b[38;5;21;01m.\u001b[39;00m\u001b[38;5;21;01mutils\u001b[39;00m\u001b[38;5;21;01m.\u001b[39;00m\u001b[38;5;21;01mdata\u001b[39;00m \u001b[38;5;28;01mimport\u001b[39;00m UniswapExchangeData\n\u001b[1;32m     17\u001b[0m \u001b[38;5;28;01mfrom\u001b[39;00m \u001b[38;5;21;01m.\u001b[39;00m\u001b[38;5;21;01m.\u001b[39;00m\u001b[38;5;21;01m.\u001b[39;00m\u001b[38;5;21;01mcpt\u001b[39;00m\u001b[38;5;21;01m.\u001b[39;00m\u001b[38;5;21;01mfactory\u001b[39;00m \u001b[38;5;28;01mimport\u001b[39;00m UniswapFactory\n\u001b[0;32m---> 18\u001b[0m \u001b[38;5;28;01mfrom\u001b[39;00m \u001b[38;5;21;01m.\u001b[39;00m\u001b[38;5;21;01m.\u001b[39;00m\u001b[38;5;21;01m.\u001b[39;00m\u001b[38;5;21;01msimulate\u001b[39;00m \u001b[38;5;28;01mimport\u001b[39;00m SolveDeltas\n\u001b[1;32m     19\u001b[0m \u001b[38;5;28;01mfrom\u001b[39;00m \u001b[38;5;21;01m.\u001b[39;00m\u001b[38;5;21;01m.\u001b[39;00m\u001b[38;5;21;01m.\u001b[39;00m\u001b[38;5;21;01mprocess\u001b[39;00m\u001b[38;5;21;01m.\u001b[39;00m\u001b[38;5;21;01mdeposit\u001b[39;00m \u001b[38;5;28;01mimport\u001b[39;00m SwapDeposit\n\u001b[1;32m     20\u001b[0m \u001b[38;5;28;01mfrom\u001b[39;00m \u001b[38;5;21;01m.\u001b[39;00m\u001b[38;5;21;01m.\u001b[39;00m\u001b[38;5;21;01m.\u001b[39;00m\u001b[38;5;21;01mprocess\u001b[39;00m\u001b[38;5;21;01m.\u001b[39;00m\u001b[38;5;21;01mswap\u001b[39;00m \u001b[38;5;28;01mimport\u001b[39;00m WithdrawSwap\n",
      "\u001b[0;31mModuleNotFoundError\u001b[0m: No module named 'uniswappy.simulate'"
     ]
    }
   ],
   "source": [
    "from defipy import *"
   ]
  },
  {
   "cell_type": "code",
   "execution_count": null,
   "id": "eb4dcf7c-629f-4b18-879f-c70c64c88f3e",
   "metadata": {},
   "outputs": [],
   "source": [
    "user_nm = 'user_test'\n",
    "\n",
    "amt_dai = 10000000\n",
    "denorm_wt_dai = 10\n",
    "\n",
    "amt_eth = 67738.6361731024\n",
    "denorm_wt_eth = 40\n",
    "\n",
    "init_pool_shares = 100\n",
    "\n",
    "dai = ERC20(\"DAI\", \"0x111\")\n",
    "dai.deposit(None, amt_dai)\n",
    "\n",
    "weth = ERC20(\"WETH\", \"0x09\")\n",
    "weth.deposit(None, amt_eth)\n",
    "\n",
    "bgrp = BalancerVault()\n",
    "bgrp.add_token(dai, denorm_wt_dai)\n",
    "bgrp.add_token(weth, denorm_wt_eth)"
   ]
  },
  {
   "cell_type": "markdown",
   "id": "f3ed0a20-7eb1-4492-a20c-c158797cef2b",
   "metadata": {},
   "source": [
    "### Join()"
   ]
  },
  {
   "cell_type": "code",
   "execution_count": null,
   "id": "9a483ae7-e822-412b-bc0b-fa879800b74f",
   "metadata": {},
   "outputs": [],
   "source": [
    "bfactory = BalancerFactory(\"WETH pool factory\", \"0x2\")\n",
    "exchg_data = BalancerExchangeData(vault = bgrp, symbol=\"LP\", address=\"0x011\")\n",
    "lp = bfactory.deploy(exchg_data)\n",
    "\n",
    "Join().apply(lp, user_nm, init_pool_shares)\n",
    "lp.summary()"
   ]
  },
  {
   "cell_type": "markdown",
   "id": "b57a5017-8d90-46db-8de0-8cab3e47692d",
   "metadata": {},
   "source": [
    "### Swap (out-given-in)"
   ]
  },
  {
   "cell_type": "code",
   "execution_count": null,
   "id": "3b33ed87-cefa-47bf-992d-862256aefb77",
   "metadata": {},
   "outputs": [],
   "source": [
    "amt_tkn_in = 10000\n",
    "tkn_in = dai\n",
    "tkn_out = weth\n",
    "\n",
    "res = Swap(Proc.SWAPOUT).apply(lp, tkn_in, tkn_out, user_nm, amt_tkn_in)\n",
    "lp.summary()\n",
    "\n",
    "print(f\"{amt_tkn_in} {tkn_in.token_name} was swapped into {res['tkn_out_amt']} {tkn_out.token_name}\")"
   ]
  },
  {
   "cell_type": "markdown",
   "id": "d9a28709-94c0-4d78-8a31-cce8086c7624",
   "metadata": {},
   "source": [
    "### Swap (in-given-out)"
   ]
  },
  {
   "cell_type": "code",
   "execution_count": null,
   "id": "3e7f1c49-b5c5-4a56-be0c-f28e8365e54b",
   "metadata": {},
   "outputs": [],
   "source": [
    "amt_tkn_out = 20\n",
    "tkn_out = weth\n",
    "tkn_in = dai\n",
    "\n",
    "res = Swap(Proc.SWAPIN).apply(lp, tkn_in, tkn_out, user_nm, amt_tkn_out)\n",
    "lp.summary()\n",
    "\n",
    "print(f\"{amt_tkn_out} {tkn_out.token_name} was swapped into {res['tkn_in_amt']} {tkn_in.token_name}\")"
   ]
  },
  {
   "cell_type": "markdown",
   "id": "84498fdf-d721-43a0-8dff-3e1919dc685c",
   "metadata": {},
   "source": [
    "### AddLiquidity (based on token amounts)"
   ]
  },
  {
   "cell_type": "code",
   "execution_count": null,
   "id": "196affb1-d6fd-47a9-a3fc-5466582f03ec",
   "metadata": {},
   "outputs": [],
   "source": [
    "tkn_in = weth\n",
    "amt_tkn_in = 25\n",
    "\n",
    "res = AddLiquidity(Proc.ADDTKN).apply(lp, tkn_in, user_nm, amt_tkn_in)\n",
    "lp.summary()\n",
    "\n",
    "print(f\"{amt_tkn_in} {tkn_in.token_name} was added resulting in anadditional {res['shares_in_amt']} LP shares\")"
   ]
  },
  {
   "cell_type": "markdown",
   "id": "ac14fb19-e35d-4d64-88ef-7be532b40faf",
   "metadata": {},
   "source": [
    "### AddLiquidity (based on LP share amounts)"
   ]
  },
  {
   "cell_type": "code",
   "execution_count": null,
   "id": "b7a4ebda-cf95-412b-b0b1-e3498e266dfb",
   "metadata": {},
   "outputs": [],
   "source": [
    "tkn_in = weth\n",
    "amt_shares_in = 10\n",
    "\n",
    "res = AddLiquidity(Proc.ADDSHARES).apply(lp, tkn_in, user_nm, amt_tkn_in)\n",
    "lp.summary()\n",
    "\n",
    "print(f\"{amt_shares_in} LP shares were added resulting in an additional {res['tkn_in_amt']} {tkn_in.token_name}\")"
   ]
  }
 ],
 "metadata": {
  "kernelspec": {
   "display_name": "Python 3 (ipykernel)",
   "language": "python",
   "name": "python3"
  },
  "language_info": {
   "codemirror_mode": {
    "name": "ipython",
    "version": 3
   },
   "file_extension": ".py",
   "mimetype": "text/x-python",
   "name": "python",
   "nbconvert_exporter": "python",
   "pygments_lexer": "ipython3",
   "version": "3.10.0rc2"
  }
 },
 "nbformat": 4,
 "nbformat_minor": 5
}
