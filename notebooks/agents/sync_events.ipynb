{
 "cells": [
  {
   "cell_type": "code",
   "execution_count": 28,
   "id": "64a13dc7-8859-4bb8-8469-2f7c15570c77",
   "metadata": {},
   "outputs": [],
   "source": [
    "import json\n",
    "import time\n",
    "from web3scout import *\n",
    "from defipy import *"
   ]
  },
  {
   "cell_type": "code",
   "execution_count": 29,
   "id": "b1dbb83a-21b9-422a-b77e-b5d14ac450e3",
   "metadata": {},
   "outputs": [],
   "source": [
    "pair_address = \"0xB4e16d0168e52d35CaCD2c6185b44281Ec28C9Dc\"\n",
    "provider_url = \"https://mainnet.infura.io/v3/9624e3e5c40f4ac3958b79fa5aa2562d\"\n",
    "platform = Platform.AGNOSTIC\n",
    "abi_name = JSONContract.UniswapV2Pair"
   ]
  },
  {
   "cell_type": "code",
   "execution_count": 30,
   "id": "1b19fb80-a9ec-4266-8794-d8b282f810fb",
   "metadata": {},
   "outputs": [],
   "source": [
    "abi = ABILoad(platform, abi_name)\n",
    "connect = ConnectW3(provider_url)\n",
    "connect.apply()"
   ]
  },
  {
   "cell_type": "code",
   "execution_count": 31,
   "id": "2c744623-19a1-4135-9c68-ae89bb08b3ae",
   "metadata": {},
   "outputs": [],
   "source": [
    "last_block = connect.get_w3().eth.block_number\n",
    "start_block = last_block - 100"
   ]
  },
  {
   "cell_type": "code",
   "execution_count": 32,
   "id": "d2eb2558-f421-40fd-9525-6dc59f5b6763",
   "metadata": {},
   "outputs": [
    {
     "data": {
      "text/html": [
       "<div>\n",
       "<style scoped>\n",
       "    .dataframe tbody tr th:only-of-type {\n",
       "        vertical-align: middle;\n",
       "    }\n",
       "\n",
       "    .dataframe tbody tr th {\n",
       "        vertical-align: top;\n",
       "    }\n",
       "\n",
       "    .dataframe thead th {\n",
       "        text-align: right;\n",
       "    }\n",
       "</style>\n",
       "<table border=\"1\" class=\"dataframe\">\n",
       "  <thead>\n",
       "    <tr style=\"text-align: right;\">\n",
       "      <th></th>\n",
       "      <th>blockNumber</th>\n",
       "      <th>event</th>\n",
       "      <th>address</th>\n",
       "      <th>blockHash</th>\n",
       "      <th>logIndex</th>\n",
       "      <th>transactionHash</th>\n",
       "      <th>transactionIndex</th>\n",
       "      <th>args</th>\n",
       "    </tr>\n",
       "  </thead>\n",
       "  <tbody>\n",
       "    <tr>\n",
       "      <th>0</th>\n",
       "      <td>23035079</td>\n",
       "      <td>Sync</td>\n",
       "      <td>0xB4e16d0168e52d35CaCD2c6185b44281Ec28C9Dc</td>\n",
       "      <td>0xa6f4962225ee0ca6da5da22ec1d7c5852723d067b002...</td>\n",
       "      <td>433</td>\n",
       "      <td>0x4d020bd46b2054b245689a671b7ed0b51b0a97d1bbf0...</td>\n",
       "      <td>240</td>\n",
       "      <td>{'reserve0': 14732427921147, 'reserve1': 39122...</td>\n",
       "    </tr>\n",
       "    <tr>\n",
       "      <th>1</th>\n",
       "      <td>23035084</td>\n",
       "      <td>Sync</td>\n",
       "      <td>0xB4e16d0168e52d35CaCD2c6185b44281Ec28C9Dc</td>\n",
       "      <td>0x477481228807c6614616441c74f5a6303c603f201dbb...</td>\n",
       "      <td>45</td>\n",
       "      <td>0x036c23a272959b7898c74d79cfc0a099b72b533aa6c9...</td>\n",
       "      <td>29</td>\n",
       "      <td>{'reserve0': 14732500255797, 'reserve1': 39121...</td>\n",
       "    </tr>\n",
       "  </tbody>\n",
       "</table>\n",
       "</div>"
      ],
      "text/plain": [
       "   blockNumber event                                     address  \\\n",
       "0     23035079  Sync  0xB4e16d0168e52d35CaCD2c6185b44281Ec28C9Dc   \n",
       "1     23035084  Sync  0xB4e16d0168e52d35CaCD2c6185b44281Ec28C9Dc   \n",
       "\n",
       "                                           blockHash  logIndex  \\\n",
       "0  0xa6f4962225ee0ca6da5da22ec1d7c5852723d067b002...       433   \n",
       "1  0x477481228807c6614616441c74f5a6303c603f201dbb...        45   \n",
       "\n",
       "                                     transactionHash  transactionIndex  \\\n",
       "0  0x4d020bd46b2054b245689a671b7ed0b51b0a97d1bbf0...               240   \n",
       "1  0x036c23a272959b7898c74d79cfc0a099b72b533aa6c9...                29   \n",
       "\n",
       "                                                args  \n",
       "0  {'reserve0': 14732427921147, 'reserve1': 39122...  \n",
       "1  {'reserve0': 14732500255797, 'reserve1': 39121...  "
      ]
     },
     "execution_count": 32,
     "metadata": {},
     "output_type": "execute_result"
    }
   ],
   "source": [
    "# Sync\n",
    "rEvents = RetrieveEvents(connect, abi)\n",
    "result_events = rEvents.apply(EventType.SYNC, address = pair_address, start_block=start_block, end_block=last_block)\n",
    "rEvents.to_dataframe(result_events).head(2)"
   ]
  },
  {
   "cell_type": "code",
   "execution_count": 33,
   "id": "a2f88c20-601c-4d10-a63c-ceec35ec1677",
   "metadata": {},
   "outputs": [
    {
     "name": "stdout",
     "output_type": "stream",
     "text": [
      "Exchange USDC-WETH (LP)\n",
      "Reserves: USDC = 14732427.921147, WETH = 3912.211100210301\n",
      "Liquidity: 0.08984440448421524 \n",
      "\n"
     ]
    }
   ],
   "source": [
    "lp = prime_pool_state(pair_address, start_block)\n",
    "lp.summary()"
   ]
  }
 ],
 "metadata": {
  "kernelspec": {
   "display_name": "Python 3 (ipykernel)",
   "language": "python",
   "name": "python3"
  },
  "language_info": {
   "codemirror_mode": {
    "name": "ipython",
    "version": 3
   },
   "file_extension": ".py",
   "mimetype": "text/x-python",
   "name": "python",
   "nbconvert_exporter": "python",
   "pygments_lexer": "ipython3",
   "version": "3.10.0rc2"
  }
 },
 "nbformat": 4,
 "nbformat_minor": 5
}
