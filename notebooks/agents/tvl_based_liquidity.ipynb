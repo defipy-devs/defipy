{
 "cells": [
  {
   "cell_type": "markdown",
   "id": "0c71b5d4-2d0e-4cb9-8504-b5601494ea45",
   "metadata": {},
   "source": [
    "# Liquidity Exit Agent\n",
    "\n",
    "The ``TVLBasedLiquidityExitAgent`` monitors a liquidity pool's Total Value Locked (TVL) and automatically withdraws a user’s position when TVL falls below a specified threshold, mitigating risks like slippage or impermanent loss. It integrates DeFiPy’s RemoveLiquidity for exits and Web3Scout’s event feeds for real-time TVL updates, supporting off-chain testing and on-chain execution.\n",
    "\n",
    "* To download notebook to this tutorial, see [here](https://github.com/defipy-devs/defipy-docs/blob/main/docs/onchain/onchain/price_threshold_swap.ipynb) "
   ]
  },
  {
   "cell_type": "markdown",
   "id": "8ff6c7be-a946-4747-a235-22d5af13f294",
   "metadata": {},
   "source": [
    "### 📘 Notable Classes\n",
    "\n",
    "---\n",
    "\n",
    "* **Class**: 📘 ``defipy.agents.config.TVLExitConfig`` \n",
    "    * **Purpose**: Configuration for price threshold swap agent.\n",
    "        * **Parameters**:\n",
    "            * `threshold`: Price threshold to check (`float`).\n",
    "            * `pool_address`: UniV2 pool address (`str`).\n",
    "            * `provider_url`: Provider URL (eg, infura.io)(`str`).\n",
    "            * `platform`: Platform where pool resides (eg, uniswap) (`str`).\n",
    "            * `abi_name`: ABI handle pointing to pool contract in JSON (eg, UniswapV2Pair) (`str`).\n",
    "\n",
    "---\n",
    "         \n",
    "* **Class**: 📘 ``defipy.agents.TVLBasedLiquidityExitAgent`` \n",
    "    * **Purpose**: Reactive DeFi agent for determining price threshold.\n",
    "        * **Parameters**:\n",
    "            * `config`: Agent configuration parameters (`PriceThresholdConfig`).\n",
    "    * **Methods**:\n",
    "        * ``apply()``\n",
    "            * **Purpose**: Apply price threshold agent\n",
    "        * ``run_batch(tkn: ERC20, events: dict)``\n",
    "            * **Purpose**: Run AI price agent on batch data \n",
    "            * **Parameters**:\n",
    "                * `tkn`: Swap token (`ERC20`).\n",
    "                * `events`: Dictionary of sync events (`dict`).\n",
    "        * ``prime_pool_state(start_block: int, user_nm: str)``\n",
    "            * **Purpose**: Initialize off-chain pool using information in start_block\n",
    "            * **Parameters**:\n",
    "                * `start_block`: Start block (`int`).\n",
    "                * `user_nm`: Account name of mock off-chain pool (`str`). \n",
    "        * ``get_token_price(tkn1_over_tkn0: bool, block_num: int)``\n",
    "            * **Purpose**: Get current price of pool  \n",
    "            * **Parameters**:\n",
    "                * `tkn1_over_tkn0`: price = tkn1/tkn0 (true) (`bool`).\n",
    "                * `block_num`: block number (`int`).\n",
    "        * ``check_condition(threshold: float, tkn1_over_tkn0: bool)``\n",
    "            * **Purpose**: Calculate initial token value of position   \n",
    "            * **Parameters**:\n",
    "                * `threshold`: override config price threshold (optional) (`float`).\n",
    "                * `tkn1_over_tkn0`: price = tkn1/tkn0 (true, optional) (`float`).\n",
    "        * ``get_w3()``\n",
    "            * **Purpose**: Getter function for web3.py connector object\n",
    "        * ``get_abi()``\n",
    "            * **Purpose**: Getter function for ABI json data\n",
    "        * ``get_contract_instance()``\n",
    "            * **Purpose**: Getter function for pool contract instance\n",
    "        * ``get_lp_data()``\n",
    "            * **Purpose**: Getter function for pool data associated with `pool_address` from config\n"
   ]
  },
  {
   "cell_type": "code",
   "execution_count": 1,
   "id": "1c2bff58-66cf-485d-a914-1ae3db9a3317",
   "metadata": {},
   "outputs": [],
   "source": [
    "from defipy import *\n",
    "from web3scout import *"
   ]
  },
  {
   "cell_type": "markdown",
   "id": "64d4058e-9270-43d4-b5fe-0fd12703f208",
   "metadata": {},
   "source": [
    "### Setup Agent"
   ]
  },
  {
   "cell_type": "code",
   "execution_count": 2,
   "id": "3292be41-ce20-49ae-9958-4959294ab867",
   "metadata": {},
   "outputs": [
    {
     "name": "stdout",
     "output_type": "stream",
     "text": [
      "Monitoring TVL changes @ pool address 0xB4e16d0168e52d35CaCD2c6185b44281Ec28C9Dc\n"
     ]
    }
   ],
   "source": [
    "tvl_threshold = 10000000\n",
    "exit_percentage = 1.0\n",
    "pair_address = \"0xB4e16d0168e52d35CaCD2c6185b44281Ec28C9Dc\"\n",
    "provider_url = \"https://mainnet.infura.io/v3/9624e3e5c40f4ac3958b79fa5aa2562d\"\n",
    "platform = Platform.AGNOSTIC\n",
    "abi_name = JSONContract.UniswapV2Pair\n",
    "user_position = 10\n",
    "\n",
    "config = TVLExitConfig(\n",
    "    tvl_threshold = tvl_threshold,\n",
    "    exit_percentage = exit_percentage,\n",
    "    pool_address = pair_address,\n",
    "    provider_url = provider_url,\n",
    "    platform = platform,\n",
    "    abi_name = abi_name,\n",
    "    user_position = user_position\n",
    ")\n",
    "\n",
    "agent = TVLBasedLiquidityExitAgent(config)\n",
    "agent.init()\n",
    "\n",
    "print(f\"Monitoring TVL changes @ pool address {pair_address}\")"
   ]
  },
  {
   "cell_type": "code",
   "execution_count": 3,
   "id": "240b87ea-43c4-453d-ae31-afd9f57d5630",
   "metadata": {},
   "outputs": [
    {
     "data": {
      "text/html": [
       "<div>\n",
       "<style scoped>\n",
       "    .dataframe tbody tr th:only-of-type {\n",
       "        vertical-align: middle;\n",
       "    }\n",
       "\n",
       "    .dataframe tbody tr th {\n",
       "        vertical-align: top;\n",
       "    }\n",
       "\n",
       "    .dataframe thead th {\n",
       "        text-align: right;\n",
       "    }\n",
       "</style>\n",
       "<table border=\"1\" class=\"dataframe\">\n",
       "  <thead>\n",
       "    <tr style=\"text-align: right;\">\n",
       "      <th></th>\n",
       "      <th>blockNumber</th>\n",
       "      <th>event</th>\n",
       "      <th>address</th>\n",
       "      <th>blockHash</th>\n",
       "      <th>logIndex</th>\n",
       "      <th>transactionHash</th>\n",
       "      <th>transactionIndex</th>\n",
       "      <th>args</th>\n",
       "    </tr>\n",
       "  </thead>\n",
       "  <tbody>\n",
       "    <tr>\n",
       "      <th>0</th>\n",
       "      <td>23042432</td>\n",
       "      <td>Sync</td>\n",
       "      <td>0xB4e16d0168e52d35CaCD2c6185b44281Ec28C9Dc</td>\n",
       "      <td>0x268e248d6d7d17363a75ebe59d92818e16c2bc33947c...</td>\n",
       "      <td>767</td>\n",
       "      <td>0xd661224622c13d770730d3a5c8e8cb204e2eaa619a40...</td>\n",
       "      <td>18</td>\n",
       "      <td>{'reserve0': 14595022995236, 'reserve1': 39504...</td>\n",
       "    </tr>\n",
       "    <tr>\n",
       "      <th>1</th>\n",
       "      <td>23042437</td>\n",
       "      <td>Sync</td>\n",
       "      <td>0xB4e16d0168e52d35CaCD2c6185b44281Ec28C9Dc</td>\n",
       "      <td>0x997dd29630329b4fc93daef3ed96f50a7318b9804db4...</td>\n",
       "      <td>247</td>\n",
       "      <td>0x3887d48b6b8614318827c9de49d2b68c68f5883e8fbe...</td>\n",
       "      <td>67</td>\n",
       "      <td>{'reserve0': 14595031353137, 'reserve1': 39504...</td>\n",
       "    </tr>\n",
       "  </tbody>\n",
       "</table>\n",
       "</div>"
      ],
      "text/plain": [
       "   blockNumber event                                     address  \\\n",
       "0     23042432  Sync  0xB4e16d0168e52d35CaCD2c6185b44281Ec28C9Dc   \n",
       "1     23042437  Sync  0xB4e16d0168e52d35CaCD2c6185b44281Ec28C9Dc   \n",
       "\n",
       "                                           blockHash  logIndex  \\\n",
       "0  0x268e248d6d7d17363a75ebe59d92818e16c2bc33947c...       767   \n",
       "1  0x997dd29630329b4fc93daef3ed96f50a7318b9804db4...       247   \n",
       "\n",
       "                                     transactionHash  transactionIndex  \\\n",
       "0  0xd661224622c13d770730d3a5c8e8cb204e2eaa619a40...                18   \n",
       "1  0x3887d48b6b8614318827c9de49d2b68c68f5883e8fbe...                67   \n",
       "\n",
       "                                                args  \n",
       "0  {'reserve0': 14595022995236, 'reserve1': 39504...  \n",
       "1  {'reserve0': 14595031353137, 'reserve1': 39504...  "
      ]
     },
     "execution_count": 3,
     "metadata": {},
     "output_type": "execute_result"
    }
   ],
   "source": [
    "abi = ABILoad(platform, abi_name)\n",
    "connect = ConnectW3(provider_url)\n",
    "connect.apply()\n",
    "\n",
    "last_block = connect.get_w3().eth.block_number\n",
    "start_block = last_block - 250\n",
    "\n",
    "# Grab batch sync events from pool\n",
    "rEvents = RetrieveEvents(connect, abi)\n",
    "events = rEvents.apply(EventType.SYNC, address = pair_address, start_block=start_block, end_block=last_block)\n",
    "rEvents.to_dataframe(events).head(2)"
   ]
  },
  {
   "cell_type": "code",
   "execution_count": 4,
   "id": "fc4d9b45-4ee0-407b-b44d-9b34d354a4e2",
   "metadata": {},
   "outputs": [
    {
     "name": "stdout",
     "output_type": "stream",
     "text": [
      "Exchange USDC-WETH (LP)\n",
      "Reserves: USDC = 14594840.921519, WETH = 3950.485213265235\n",
      "Liquidity: 0.08984440448421524 \n",
      "\n"
     ]
    }
   ],
   "source": [
    "tkn0 = agent.get_lp_data().tkn0\n",
    "tkn1 = agent.get_lp_data().tkn1\n",
    "\n",
    "lp = agent.prime_mock_pool(start_block, 'user')\n",
    "lp.summary()"
   ]
  },
  {
   "cell_type": "code",
   "execution_count": 5,
   "id": "315d10f7-2c47-4848-b2ff-53df86ab8f6b",
   "metadata": {},
   "outputs": [
    {
     "name": "stdout",
     "output_type": "stream",
     "text": [
      "Exchange USDC-WETH (LP)\n",
      "Reserves: USDC = 14582125.977117, WETH = 3954.0127778609135\n",
      "Liquidity: 0.08984440448421524 \n",
      "\n"
     ]
    }
   ],
   "source": [
    "lp = agent.update_mock_pool(lp, last_block)\n",
    "lp.summary()"
   ]
  },
  {
   "cell_type": "code",
   "execution_count": 6,
   "id": "312e6231-5aea-48b7-afb7-d4301814a6a7",
   "metadata": {},
   "outputs": [],
   "source": [
    "mock_lp_pos = agent.take_mock_position(lp, tkn0, 'user', 10)"
   ]
  },
  {
   "cell_type": "code",
   "execution_count": 11,
   "id": "4aadc312-65d5-4dcb-8c80-3b7fc3dd138a",
   "metadata": {},
   "outputs": [],
   "source": [
    "# agent.get_pool_tvl(lp, tkn0, last_block)\n",
    "# agent.check_condition(lp, tkn0, tvl_threshold, last_block)\n",
    "# agent.apply(lp, tkn0, 'user', last_block)"
   ]
  },
  {
   "cell_type": "code",
   "execution_count": 10,
   "id": "9b34c859-406f-4b29-bba7-f89b56217971",
   "metadata": {},
   "outputs": [
    {
     "name": "stdout",
     "output_type": "stream",
     "text": [
      "Block 23042432: TVL threshold condition met for USDC-WETH LP\n",
      "Block 23042437: TVL threshold condition met for USDC-WETH LP\n",
      "Block 23042462: TVL threshold condition met for USDC-WETH LP\n",
      "Block 23042470: TVL threshold condition met for USDC-WETH LP\n",
      "Block 23042487: TVL threshold condition met for USDC-WETH LP\n",
      "Block 23042491: TVL threshold condition met for USDC-WETH LP\n",
      "Block 23042492: TVL threshold condition met for USDC-WETH LP\n",
      "Block 23042496: TVL threshold condition met for USDC-WETH LP\n",
      "Block 23042499: TVL threshold condition met for USDC-WETH LP\n",
      "Block 23042502: TVL threshold condition met for USDC-WETH LP\n",
      "Block 23042503: TVL threshold condition met for USDC-WETH LP\n",
      "Block 23042507: TVL threshold condition met for USDC-WETH LP\n",
      "Block 23042507: TVL threshold condition met for USDC-WETH LP\n",
      "Block 23042508: TVL threshold condition met for USDC-WETH LP\n",
      "Block 23042511: TVL threshold condition met for USDC-WETH LP\n",
      "Block 23042512: TVL threshold condition met for USDC-WETH LP\n",
      "Block 23042519: TVL threshold condition met for USDC-WETH LP\n",
      "Block 23042519: TVL threshold condition met for USDC-WETH LP\n",
      "Block 23042519: TVL threshold condition met for USDC-WETH LP\n",
      "Block 23042523: TVL threshold condition met for USDC-WETH LP\n",
      "Block 23042528: TVL threshold condition met for USDC-WETH LP\n",
      "Block 23042535: TVL threshold condition met for USDC-WETH LP\n",
      "Block 23042537: TVL threshold condition met for USDC-WETH LP\n",
      "Block 23042560: TVL threshold condition met for USDC-WETH LP\n",
      "Block 23042560: TVL threshold condition met for USDC-WETH LP\n",
      "Block 23042564: TVL threshold condition met for USDC-WETH LP\n",
      "Block 23042568: TVL threshold condition met for USDC-WETH LP\n",
      "Block 23042568: TVL threshold condition met for USDC-WETH LP\n",
      "Block 23042568: TVL threshold condition met for USDC-WETH LP\n",
      "Block 23042568: TVL threshold condition met for USDC-WETH LP\n",
      "Block 23042568: TVL threshold condition met for USDC-WETH LP\n",
      "Block 23042568: TVL threshold condition met for USDC-WETH LP\n",
      "Block 23042568: TVL threshold condition met for USDC-WETH LP\n",
      "Block 23042568: TVL threshold condition met for USDC-WETH LP\n",
      "Block 23042568: TVL threshold condition met for USDC-WETH LP\n",
      "Block 23042568: TVL threshold condition met for USDC-WETH LP\n",
      "Block 23042568: TVL threshold condition met for USDC-WETH LP\n",
      "Block 23042569: TVL threshold condition met for USDC-WETH LP\n",
      "Block 23042571: TVL threshold condition met for USDC-WETH LP\n",
      "Block 23042571: TVL threshold condition met for USDC-WETH LP\n",
      "Block 23042571: TVL threshold condition met for USDC-WETH LP\n",
      "Block 23042571: TVL threshold condition met for USDC-WETH LP\n",
      "Block 23042572: TVL threshold condition met for USDC-WETH LP\n",
      "Block 23042572: TVL threshold condition met for USDC-WETH LP\n",
      "Block 23042574: TVL threshold condition met for USDC-WETH LP\n",
      "Block 23042577: TVL threshold condition met for USDC-WETH LP\n",
      "Block 23042578: TVL threshold condition met for USDC-WETH LP\n",
      "Block 23042581: TVL threshold condition met for USDC-WETH LP\n",
      "Block 23042581: TVL threshold condition met for USDC-WETH LP\n",
      "Block 23042582: TVL threshold condition met for USDC-WETH LP\n",
      "Block 23042583: TVL threshold condition met for USDC-WETH LP\n",
      "Block 23042586: TVL threshold condition met for USDC-WETH LP\n",
      "Block 23042590: TVL threshold condition met for USDC-WETH LP\n",
      "Block 23042591: TVL threshold condition met for USDC-WETH LP\n",
      "Block 23042604: TVL threshold condition met for USDC-WETH LP\n",
      "Block 23042607: TVL threshold condition met for USDC-WETH LP\n",
      "Block 23042607: TVL threshold condition met for USDC-WETH LP\n",
      "Block 23042607: TVL threshold condition met for USDC-WETH LP\n",
      "Block 23042608: TVL threshold condition met for USDC-WETH LP\n",
      "Block 23042609: TVL threshold condition met for USDC-WETH LP\n",
      "Block 23042612: TVL threshold condition met for USDC-WETH LP\n",
      "Block 23042614: TVL threshold condition met for USDC-WETH LP\n",
      "Block 23042614: TVL threshold condition met for USDC-WETH LP\n",
      "Block 23042616: TVL threshold condition met for USDC-WETH LP\n",
      "Block 23042622: TVL threshold condition met for USDC-WETH LP\n",
      "Block 23042623: TVL threshold condition met for USDC-WETH LP\n",
      "Block 23042626: TVL threshold condition met for USDC-WETH LP\n",
      "Block 23042627: TVL threshold condition met for USDC-WETH LP\n",
      "Block 23042642: TVL threshold condition met for USDC-WETH LP\n",
      "Block 23042652: TVL threshold condition met for USDC-WETH LP\n",
      "Block 23042671: TVL threshold condition met for USDC-WETH LP\n"
     ]
    }
   ],
   "source": [
    "agent.run_batch(lp, tkn0, 'user', events)"
   ]
  }
 ],
 "metadata": {
  "kernelspec": {
   "display_name": "Python 3 (ipykernel)",
   "language": "python",
   "name": "python3"
  },
  "language_info": {
   "codemirror_mode": {
    "name": "ipython",
    "version": 3
   },
   "file_extension": ".py",
   "mimetype": "text/x-python",
   "name": "python",
   "nbconvert_exporter": "python",
   "pygments_lexer": "ipython3",
   "version": "3.10.0rc2"
  }
 },
 "nbformat": 4,
 "nbformat_minor": 5
}
