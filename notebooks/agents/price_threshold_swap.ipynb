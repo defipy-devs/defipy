{
 "cells": [
  {
   "cell_type": "markdown",
   "id": "bf001555-3dea-4c59-9642-c829be981ba5",
   "metadata": {},
   "source": [
    "# Price Agent\n",
    "\n",
    "The ``PriceThresholdSwapAgent`` is a reactive DeFi Agent that continuously monitors token prices in a specified liquidity pool, such as a Uniswap V2 pair for USDC/WETH. It automatically triggers a predefined swap (e.g., selling WETH for USDC) when the price exceeds a user-set threshold, integrating real-time event feeds for efficient execution\n",
    "\n",
    "* To download notebook to this tutorial, see [here](https://github.com/defipy-devs/defipy-docs/blob/main/docs/onchain/onchain/price_threshold_swap.ipynb) "
   ]
  },
  {
   "cell_type": "code",
   "execution_count": 13,
   "id": "ae5353c6-f3e9-4216-9f14-34953ea73cb9",
   "metadata": {},
   "outputs": [],
   "source": [
    "from defipy import *\n",
    "from web3scout import *"
   ]
  },
  {
   "cell_type": "markdown",
   "id": "5e998ff3-f99b-4598-9d2f-b28e5acc15c4",
   "metadata": {},
   "source": [
    "### 📘 Notable Classes\n",
    "\n",
    "---\n",
    "\n",
    "* **Class**: 📘 ``defipy.agents.config.PriceThresholdConfig`` \n",
    "    * **Purpose**: Configuration for price threshold swap agent.\n",
    "        * **Parameters**:\n",
    "            * `threshold`: Price threshold to check (`float`).\n",
    "            * `pool_address`: UniV2 pool address (`str`).\n",
    "            * `provider_url`: Provider URL (eg, infura.io)(`str`).\n",
    "            * `platform`: Platform where pool resides (eg, uniswap) (`str`).\n",
    "            * `abi_name`: ABI handle pointing to pool contract in JSON (eg, UniswapV2Pair) (`str`).\n",
    "\n",
    "---\n",
    "         \n",
    "* **Class**: 📘 ``defipy.agents.PriceThresholdSwapAgent`` \n",
    "    * **Purpose**: Reactive DeFi agent for determining price threshold.\n",
    "        * **Parameters**:\n",
    "            * `config`: Agent configuration parameters (`PriceThresholdConfig`).\n",
    "    * **Methods**:\n",
    "        * ``apply()``\n",
    "            * **Purpose**: Apply price threshold agent   \n",
    "        * ``get_current_price(tkn1_over_tkn0: bool)``\n",
    "            * **Purpose**: Get current price of pool  \n",
    "            * **Parameters**:\n",
    "                * `tkn1_over_tkn0`: price = tkn1/tkn0 (true) or price = tkn0/tkn1 (false)(`bool`).\n",
    "        * ``check_condition(threshold: float, tkn1_over_tkn0: bool)``\n",
    "            * **Purpose**: Calculate initial token value of position   \n",
    "            * **Parameters**:\n",
    "                * `threshold`: override config price threshold (optional) (`float`).\n",
    "                * `tkn1_over_tkn0`: price = tkn1/tkn0 (true) or price = tkn0/tkn1 (false) (optional) (`float`).\n",
    "        * ``get_w3()``\n",
    "            * **Purpose**: Getter function for web3.py connector object\n",
    "        * ``get_abi()``\n",
    "            * **Purpose**: Getter function for ABI json data\n",
    "        * ``get_contract_instance()``\n",
    "            * **Purpose**: Getter function for pool contract instance\n",
    "        * ``get_lp_data()``\n",
    "            * **Purpose**: Getter function for pool data associated with `pool_address` from config\n"
   ]
  },
  {
   "cell_type": "markdown",
   "id": "646f7954-7b13-4e2b-8267-0cddaec91c49",
   "metadata": {},
   "source": [
    "### Setup Agent"
   ]
  },
  {
   "cell_type": "code",
   "execution_count": 17,
   "id": "03493fe7-8c7a-457a-8271-04fbf8360a53",
   "metadata": {},
   "outputs": [
    {
     "name": "stdout",
     "output_type": "stream",
     "text": [
      "Monitoring price movements @ pool address 0xB4e16d0168e52d35CaCD2c6185b44281Ec28C9Dc\n"
     ]
    }
   ],
   "source": [
    "price_threshold = 3000.0\n",
    "pair_address = \"0xB4e16d0168e52d35CaCD2c6185b44281Ec28C9Dc\"\n",
    "provider_url = \"https://mainnet.infura.io/v3/9624e3e5c40f4ac3958b79fa5aa2562d\"\n",
    "platform = Platform.AGNOSTIC\n",
    "abi_name = JSONContract.UniswapV2Pair\n",
    "\n",
    "config = PriceThresholdConfig(\n",
    "    threshold = price_threshold,\n",
    "    pool_address = pair_address,\n",
    "    provider_url = provider_url,\n",
    "    platform = platform,\n",
    "    abi_name = abi_name,\n",
    ")\n",
    "\n",
    "agent = PriceThresholdSwapAgent(config)\n",
    "\n",
    "print(f\"Monitoring price movements @ pool address {pair_address}\")"
   ]
  },
  {
   "cell_type": "markdown",
   "id": "a5e327d9-5638-497b-9212-1c8c65241ac0",
   "metadata": {},
   "source": [
    "### Agent Run #1"
   ]
  },
  {
   "cell_type": "code",
   "execution_count": 15,
   "id": "b326c912-a642-491c-aa9a-8a06d2983814",
   "metadata": {},
   "outputs": [
    {
     "name": "stdout",
     "output_type": "stream",
     "text": [
      "---------------------------------------------------------------------------------------\n",
      "Agent data @ pool address 0xB4e16d0168e52d35CaCD2c6185b44281Ec28C9Dc\n",
      "---------------------------------------------------------------------------------------\n",
      "reserve0 = 14722892.12 USDC @ token address 0xA0b86991c6218b36c1d19D4a2e9Eb0cE3606eB48\n",
      "reserve1 = 3913.53 WETH @ token address 0xC02aaA39b223FE8D0A0e5C4F27eAD9083C756Cc2\n",
      "\n",
      "WETH Price in USDC: 3762.0484533085046\n",
      "Threshold PASS, WETH Price > 3000.0: True\n"
     ]
    }
   ],
   "source": [
    "# Apply agent\n",
    "agent.apply()\n",
    "\n",
    "# Grab agent data\n",
    "tkn1_over_tkn0 = True\n",
    "price = agent.get_current_price(True)\n",
    "price_condition_pass = agent.check_condition()\n",
    "contract_instance = agent.get_contract_instance()\n",
    "lp_data = agent.get_lp_data()\n",
    "\n",
    "tkn0 = lp_data.tkn0; tkn1 = lp_data.tkn1; reserves = lp_data.reserves\n",
    "\n",
    "# Print agent data\n",
    "print(\"---------------------------------------------------------------------------------------\")\n",
    "print(f\"Agent data @ pool address {pair_address}\")\n",
    "print(\"---------------------------------------------------------------------------------------\")\n",
    "print(f\"reserve0 = {reserves[0]/(10**tkn0.token_decimal):.2f} {tkn0.token_name} @ token address {tkn0.token_addr}\")\n",
    "print(f\"reserve1 = {reserves[1]/(10**tkn1.token_decimal):.2f} {tkn1.token_name} @ token address {tkn1.token_addr}\")\n",
    "\n",
    "if(tkn1_over_tkn0):\n",
    "    price = (reserves[0] / reserves[1]) * (10 ** (tkn1.token_decimal - tkn0.token_decimal))\n",
    "    print(f\"\\n{tkn1.token_name} Price in {tkn0.token_name}: {price}\")\n",
    "    print(f\"Threshold PASS, {tkn1.token_name} Price > {price_threshold}: {price_condition_pass}\")\n",
    "else:\n",
    "    price = (reserves[1] / reserves[0]) * (10 ** (tkn0.token_decimal - tkn1.token_decimal))\n",
    "    print(f\"\\n{tkn0.token_name} Price in {tkn1.token_name}: {price}\")\n",
    "    print(f\"Threshold PASS, {tkn0.token_name} Price > {price_threshold}: {price_condition_pass}\")"
   ]
  },
  {
   "cell_type": "markdown",
   "id": "f5f3f22b-6150-43a8-bab3-400e76c38a89",
   "metadata": {},
   "source": [
    "### Agent Run #2"
   ]
  },
  {
   "cell_type": "code",
   "execution_count": 16,
   "id": "e238f7e8-d489-4be9-9a28-913b999dce3e",
   "metadata": {},
   "outputs": [
    {
     "name": "stdout",
     "output_type": "stream",
     "text": [
      "---------------------------------------------------------------------------------------\n",
      "Agent data @ pool address 0xB4e16d0168e52d35CaCD2c6185b44281Ec28C9Dc\n",
      "---------------------------------------------------------------------------------------\n",
      "reserve0 = 14722892.12 USDC @ token address 0xA0b86991c6218b36c1d19D4a2e9Eb0cE3606eB48\n",
      "reserve1 = 3913.53 WETH @ token address 0xC02aaA39b223FE8D0A0e5C4F27eAD9083C756Cc2\n",
      "\n",
      "USDC Price in WETH: 0.0002658126317114703\n",
      "Threshold PASS, USDC Price > 0.0003: False\n"
     ]
    }
   ],
   "source": [
    "price_threshold = 0.0003\n",
    "tkn1_over_tkn0 = False\n",
    "\n",
    "# Apply agent\n",
    "agent.apply()\n",
    "\n",
    "# Grab agent data\n",
    "price = agent.get_current_price(True)\n",
    "price_condition_pass = agent.check_condition(price_threshold, tkn1_over_tkn0)\n",
    "contract_instance = agent.get_contract_instance()\n",
    "lp_data = agent.get_lp_data()\n",
    "\n",
    "tkn0 = lp_data.tkn0; tkn1 = lp_data.tkn1; reserves = lp_data.reserves\n",
    "\n",
    "# Print agent data\n",
    "print(\"---------------------------------------------------------------------------------------\")\n",
    "print(f\"Agent data @ pool address {pair_address}\")\n",
    "print(\"---------------------------------------------------------------------------------------\")\n",
    "print(f\"reserve0 = {reserves[0]/(10**tkn0.token_decimal):.2f} {tkn0.token_name} @ token address {tkn0.token_addr}\")\n",
    "print(f\"reserve1 = {reserves[1]/(10**tkn1.token_decimal):.2f} {tkn1.token_name} @ token address {tkn1.token_addr}\")\n",
    "\n",
    "if(tkn1_over_tkn0):\n",
    "    price = (reserves[0] / reserves[1]) * (10 ** (tkn1.token_decimal - tkn0.token_decimal))\n",
    "    print(f\"\\n{tkn1.token_name} Price in {tkn0.token_name}: {price}\")\n",
    "    print(f\"Threshold PASS, {tkn1.token_name} Price > {price_threshold}: {price_condition_pass}\")\n",
    "else:\n",
    "    price = (reserves[1] / reserves[0]) * (10 ** (tkn0.token_decimal - tkn1.token_decimal))\n",
    "    print(f\"\\n{tkn0.token_name} Price in {tkn1.token_name}: {price}\")\n",
    "    print(f\"Threshold PASS, {tkn0.token_name} Price > {price_threshold}: {price_condition_pass}\")"
   ]
  }
 ],
 "metadata": {
  "kernelspec": {
   "display_name": "Python 3 (ipykernel)",
   "language": "python",
   "name": "python3"
  },
  "language_info": {
   "codemirror_mode": {
    "name": "ipython",
    "version": 3
   },
   "file_extension": ".py",
   "mimetype": "text/x-python",
   "name": "python",
   "nbconvert_exporter": "python",
   "pygments_lexer": "ipython3",
   "version": "3.10.0rc2"
  }
 },
 "nbformat": 4,
 "nbformat_minor": 5
}
