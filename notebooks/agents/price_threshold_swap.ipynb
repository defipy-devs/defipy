{
 "cells": [
  {
   "cell_type": "markdown",
   "id": "bf001555-3dea-4c59-9642-c829be981ba5",
   "metadata": {},
   "source": [
    "# Price Agent\n",
    "\n",
    "The ``PriceThresholdSwapAgent`` is a reactive DeFi Agent that continuously monitors token prices in a specified liquidity pool, such as a Uniswap V2 pair for USDC/WETH. It automatically triggers a predefined swap (e.g., selling WETH for USDC) when the price exceeds a user-set threshold, integrating real-time event feeds for efficient execution\n",
    "\n",
    "* To download notebook to this tutorial, see [here](https://github.com/defipy-devs/defipy-docs/blob/main/docs/onchain/onchain/price_threshold_swap.ipynb) "
   ]
  },
  {
   "cell_type": "markdown",
   "id": "5e998ff3-f99b-4598-9d2f-b28e5acc15c4",
   "metadata": {},
   "source": [
    "### 📘 Notable Classes\n",
    "\n",
    "---\n",
    "\n",
    "* **Class**: 📘 ``defipy.agents.config.PriceThresholdConfig`` \n",
    "    * **Purpose**: Configuration for price threshold swap agent.\n",
    "        * **Parameters**:\n",
    "            * `threshold`: Price threshold to check (`float`).\n",
    "            * `pool_address`: UniV2 pool address (`str`).\n",
    "            * `provider_url`: Provider URL (eg, infura.io)(`str`).\n",
    "            * `platform`: Platform where pool resides (eg, uniswap) (`str`).\n",
    "            * `abi_name`: ABI handle pointing to pool contract in JSON (eg, UniswapV2Pair) (`str`).\n",
    "\n",
    "---\n",
    "         \n",
    "* **Class**: 📘 ``defipy.agents.PriceThresholdSwapAgent`` \n",
    "    * **Purpose**: Reactive DeFi agent for determining price threshold.\n",
    "        * **Parameters**:\n",
    "            * `config`: Agent configuration parameters (`PriceThresholdConfig`).\n",
    "    * **Methods**:\n",
    "        * ``apply()``\n",
    "            * **Purpose**: Apply price threshold agent   \n",
    "        * ``get_token_price(tkn1_over_tkn0: bool, block_num: int)``\n",
    "            * **Purpose**: Get current price of pool  \n",
    "            * **Parameters**:\n",
    "                * `tkn1_over_tkn0`: price = tkn1/tkn0 (true) (`bool`).\n",
    "                * `block_num`: block number (`int`).\n",
    "        * ``check_condition(threshold: float, tkn1_over_tkn0: bool)``\n",
    "            * **Purpose**: Calculate initial token value of position   \n",
    "            * **Parameters**:\n",
    "                * `threshold`: override config price threshold (optional) (`float`).\n",
    "                * `tkn1_over_tkn0`: price = tkn1/tkn0 (true, optional) (`float`).\n",
    "        * ``get_w3()``\n",
    "            * **Purpose**: Getter function for web3.py connector object\n",
    "        * ``get_abi()``\n",
    "            * **Purpose**: Getter function for ABI json data\n",
    "        * ``get_contract_instance()``\n",
    "            * **Purpose**: Getter function for pool contract instance\n",
    "        * ``get_lp_data()``\n",
    "            * **Purpose**: Getter function for pool data associated with `pool_address` from config\n"
   ]
  },
  {
   "cell_type": "code",
   "execution_count": 1,
   "id": "e30466cc-a22c-4aa5-8fc1-2c755830600a",
   "metadata": {},
   "outputs": [],
   "source": [
    "from defipy import *\n",
    "from web3scout import *"
   ]
  },
  {
   "cell_type": "markdown",
   "id": "646f7954-7b13-4e2b-8267-0cddaec91c49",
   "metadata": {},
   "source": [
    "### Setup Agent"
   ]
  },
  {
   "cell_type": "code",
   "execution_count": 2,
   "id": "03493fe7-8c7a-457a-8271-04fbf8360a53",
   "metadata": {},
   "outputs": [
    {
     "name": "stdout",
     "output_type": "stream",
     "text": [
      "Monitoring price movements @ pool address 0xB4e16d0168e52d35CaCD2c6185b44281Ec28C9Dc\n"
     ]
    }
   ],
   "source": [
    "price_threshold = 3000.0\n",
    "swap_amount = 1.0\n",
    "pair_address = \"0xB4e16d0168e52d35CaCD2c6185b44281Ec28C9Dc\"\n",
    "provider_url = \"https://mainnet.infura.io/v3/9624e3e5c40f4ac3958b79fa5aa2562d\"\n",
    "platform = Platform.AGNOSTIC\n",
    "abi_name = JSONContract.UniswapV2Pair\n",
    "\n",
    "config = PriceThresholdConfig(\n",
    "    threshold = price_threshold,\n",
    "    swap_amount = swap_amount,\n",
    "    pool_address = pair_address,\n",
    "    provider_url = provider_url,\n",
    "    platform = platform,\n",
    "    abi_name = abi_name,\n",
    ")\n",
    "\n",
    "agent = PriceThresholdSwapAgent(config)\n",
    "\n",
    "print(f\"Monitoring price movements @ pool address {pair_address}\")"
   ]
  },
  {
   "cell_type": "markdown",
   "id": "a5e327d9-5638-497b-9212-1c8c65241ac0",
   "metadata": {},
   "source": [
    "### Agent Run #1"
   ]
  },
  {
   "cell_type": "code",
   "execution_count": 3,
   "id": "b326c912-a642-491c-aa9a-8a06d2983814",
   "metadata": {},
   "outputs": [
    {
     "name": "stdout",
     "output_type": "stream",
     "text": [
      "---------------------------------------------------------------------------------------\n",
      "Agent data @ pool address 0xB4e16d0168e52d35CaCD2c6185b44281Ec28C9Dc\n",
      "---------------------------------------------------------------------------------------\n",
      "reserve0 = 14905053.04 USDC @ token address 0xA0b86991c6218b36c1d19D4a2e9Eb0cE3606eB48\n",
      "reserve1 = 3867.12 WETH @ token address 0xC02aaA39b223FE8D0A0e5C4F27eAD9083C756Cc2\n",
      "\n",
      "WETH Price in USDC: 3854.3044308929952\n",
      "Threshold PASS, WETH Price > 3000.0: True\n"
     ]
    }
   ],
   "source": [
    "# Apply agent\n",
    "agent.apply()\n",
    "\n",
    "# Grab agent data\n",
    "tkn1_over_tkn0 = True\n",
    "price = agent.get_token_price(True)\n",
    "price_condition_pass = agent.check_condition()\n",
    "contract_instance = agent.get_contract_instance()\n",
    "lp_data = agent.get_lp_data()\n",
    "\n",
    "tkn0 = lp_data.tkn0; tkn1 = lp_data.tkn1; reserves = lp_data.reserves\n",
    "\n",
    "# Print agent data\n",
    "print(\"---------------------------------------------------------------------------------------\")\n",
    "print(f\"Agent data @ pool address {pair_address}\")\n",
    "print(\"---------------------------------------------------------------------------------------\")\n",
    "print(f\"reserve0 = {reserves[0]/(10**tkn0.token_decimal):.2f} {tkn0.token_name} @ token address {tkn0.token_addr}\")\n",
    "print(f\"reserve1 = {reserves[1]/(10**tkn1.token_decimal):.2f} {tkn1.token_name} @ token address {tkn1.token_addr}\")\n",
    "\n",
    "if(tkn1_over_tkn0):\n",
    "    price = (reserves[0] / reserves[1]) * (10 ** (tkn1.token_decimal - tkn0.token_decimal))\n",
    "    print(f\"\\n{tkn1.token_name} Price in {tkn0.token_name}: {price}\")\n",
    "    print(f\"Threshold PASS, {tkn1.token_name} Price > {price_threshold}: {price_condition_pass}\")\n",
    "else:\n",
    "    price = (reserves[1] / reserves[0]) * (10 ** (tkn0.token_decimal - tkn1.token_decimal))\n",
    "    print(f\"\\n{tkn0.token_name} Price in {tkn1.token_name}: {price}\")\n",
    "    print(f\"Threshold PASS, {tkn0.token_name} Price > {price_threshold}: {price_condition_pass}\")"
   ]
  },
  {
   "cell_type": "markdown",
   "id": "f5f3f22b-6150-43a8-bab3-400e76c38a89",
   "metadata": {},
   "source": [
    "### Agent Run #2"
   ]
  },
  {
   "cell_type": "code",
   "execution_count": 4,
   "id": "e238f7e8-d489-4be9-9a28-913b999dce3e",
   "metadata": {},
   "outputs": [
    {
     "name": "stdout",
     "output_type": "stream",
     "text": [
      "---------------------------------------------------------------------------------------\n",
      "Agent data @ pool address 0xB4e16d0168e52d35CaCD2c6185b44281Ec28C9Dc\n",
      "---------------------------------------------------------------------------------------\n",
      "reserve0 = 14905053.04 USDC @ token address 0xA0b86991c6218b36c1d19D4a2e9Eb0cE3606eB48\n",
      "reserve1 = 3867.12 WETH @ token address 0xC02aaA39b223FE8D0A0e5C4F27eAD9083C756Cc2\n",
      "\n",
      "USDC Price in WETH: 0.00025945018561191136\n",
      "Threshold PASS, USDC Price > 0.0003: False\n"
     ]
    }
   ],
   "source": [
    "price_threshold = 0.0003\n",
    "tkn1_over_tkn0 = False\n",
    "\n",
    "# Apply agent\n",
    "agent.apply()\n",
    "\n",
    "# Grab agent data\n",
    "price = agent.get_token_price(True)\n",
    "price_condition_pass = agent.check_condition(price_threshold, tkn1_over_tkn0)\n",
    "contract_instance = agent.get_contract_instance()\n",
    "lp_data = agent.get_lp_data()\n",
    "\n",
    "tkn0 = lp_data.tkn0; tkn1 = lp_data.tkn1; reserves = lp_data.reserves\n",
    "\n",
    "# Print agent data\n",
    "print(\"---------------------------------------------------------------------------------------\")\n",
    "print(f\"Agent data @ pool address {pair_address}\")\n",
    "print(\"---------------------------------------------------------------------------------------\")\n",
    "print(f\"reserve0 = {reserves[0]/(10**tkn0.token_decimal):.2f} {tkn0.token_name} @ token address {tkn0.token_addr}\")\n",
    "print(f\"reserve1 = {reserves[1]/(10**tkn1.token_decimal):.2f} {tkn1.token_name} @ token address {tkn1.token_addr}\")\n",
    "\n",
    "if(tkn1_over_tkn0):\n",
    "    price = (reserves[0] / reserves[1]) * (10 ** (tkn1.token_decimal - tkn0.token_decimal))\n",
    "    print(f\"\\n{tkn1.token_name} Price in {tkn0.token_name}: {price}\")\n",
    "    print(f\"Threshold PASS, {tkn1.token_name} Price > {price_threshold}: {price_condition_pass}\")\n",
    "else:\n",
    "    price = (reserves[1] / reserves[0]) * (10 ** (tkn0.token_decimal - tkn1.token_decimal))\n",
    "    print(f\"\\n{tkn0.token_name} Price in {tkn1.token_name}: {price}\")\n",
    "    print(f\"Threshold PASS, {tkn0.token_name} Price > {price_threshold}: {price_condition_pass}\")"
   ]
  },
  {
   "cell_type": "markdown",
   "id": "f615a8d9-ed77-4bff-8ff6-504046b1e3c6",
   "metadata": {},
   "source": [
    "### Agent Run #3"
   ]
  },
  {
   "cell_type": "code",
   "execution_count": 5,
   "id": "e5572d17-e469-4ff7-bb7d-084622ff78d5",
   "metadata": {},
   "outputs": [],
   "source": [
    "abi = ABILoad(platform, abi_name)\n",
    "connect = ConnectW3(provider_url)\n",
    "connect.apply()"
   ]
  },
  {
   "cell_type": "code",
   "execution_count": 6,
   "id": "03c846ab-450c-4241-92ce-cb805da7791a",
   "metadata": {},
   "outputs": [
    {
     "data": {
      "text/html": [
       "<div>\n",
       "<style scoped>\n",
       "    .dataframe tbody tr th:only-of-type {\n",
       "        vertical-align: middle;\n",
       "    }\n",
       "\n",
       "    .dataframe tbody tr th {\n",
       "        vertical-align: top;\n",
       "    }\n",
       "\n",
       "    .dataframe thead th {\n",
       "        text-align: right;\n",
       "    }\n",
       "</style>\n",
       "<table border=\"1\" class=\"dataframe\">\n",
       "  <thead>\n",
       "    <tr style=\"text-align: right;\">\n",
       "      <th></th>\n",
       "      <th>blockNumber</th>\n",
       "      <th>event</th>\n",
       "      <th>address</th>\n",
       "      <th>blockHash</th>\n",
       "      <th>logIndex</th>\n",
       "      <th>transactionHash</th>\n",
       "      <th>transactionIndex</th>\n",
       "      <th>args</th>\n",
       "    </tr>\n",
       "  </thead>\n",
       "  <tbody>\n",
       "    <tr>\n",
       "      <th>0</th>\n",
       "      <td>23036303</td>\n",
       "      <td>Sync</td>\n",
       "      <td>0xB4e16d0168e52d35CaCD2c6185b44281Ec28C9Dc</td>\n",
       "      <td>0x3c6b0fd08eb83e854a49b9e10fc00f2784d05c3eb8d5...</td>\n",
       "      <td>90</td>\n",
       "      <td>0xd754d7ffe5065aaf9d2ec979c9e6309467f522cf74dd...</td>\n",
       "      <td>20</td>\n",
       "      <td>{'reserve0': 14902121771665, 'reserve1': 38678...</td>\n",
       "    </tr>\n",
       "    <tr>\n",
       "      <th>1</th>\n",
       "      <td>23036309</td>\n",
       "      <td>Sync</td>\n",
       "      <td>0xB4e16d0168e52d35CaCD2c6185b44281Ec28C9Dc</td>\n",
       "      <td>0xf38835be354d0145ee664d42d2665bfc49598216014c...</td>\n",
       "      <td>488</td>\n",
       "      <td>0x0e301a59768968d84b18b6d329fa0f8868243d9a5c82...</td>\n",
       "      <td>190</td>\n",
       "      <td>{'reserve0': 14902246405454, 'reserve1': 38678...</td>\n",
       "    </tr>\n",
       "  </tbody>\n",
       "</table>\n",
       "</div>"
      ],
      "text/plain": [
       "   blockNumber event                                     address  \\\n",
       "0     23036303  Sync  0xB4e16d0168e52d35CaCD2c6185b44281Ec28C9Dc   \n",
       "1     23036309  Sync  0xB4e16d0168e52d35CaCD2c6185b44281Ec28C9Dc   \n",
       "\n",
       "                                           blockHash  logIndex  \\\n",
       "0  0x3c6b0fd08eb83e854a49b9e10fc00f2784d05c3eb8d5...        90   \n",
       "1  0xf38835be354d0145ee664d42d2665bfc49598216014c...       488   \n",
       "\n",
       "                                     transactionHash  transactionIndex  \\\n",
       "0  0xd754d7ffe5065aaf9d2ec979c9e6309467f522cf74dd...                20   \n",
       "1  0x0e301a59768968d84b18b6d329fa0f8868243d9a5c82...               190   \n",
       "\n",
       "                                                args  \n",
       "0  {'reserve0': 14902121771665, 'reserve1': 38678...  \n",
       "1  {'reserve0': 14902246405454, 'reserve1': 38678...  "
      ]
     },
     "execution_count": 6,
     "metadata": {},
     "output_type": "execute_result"
    }
   ],
   "source": [
    "last_block = connect.get_w3().eth.block_number\n",
    "start_block = last_block - 100\n",
    "\n",
    "# Sync\n",
    "rEvents = RetrieveEvents(connect, abi)\n",
    "result_events = rEvents.apply(EventType.SYNC, address = pair_address, start_block=start_block, end_block=last_block)\n",
    "rEvents.to_dataframe(result_events).head(2)"
   ]
  },
  {
   "cell_type": "code",
   "execution_count": 7,
   "id": "efaa7707-03fa-46c3-985c-b10928536d89",
   "metadata": {},
   "outputs": [
    {
     "name": "stdout",
     "output_type": "stream",
     "text": [
      "Exchange USDC-WETH (LP)\n",
      "Reserves: USDC = 14901830.369315, WETH = 3867.9525721236064\n",
      "Liquidity: 0.08984440448421524 \n",
      "\n"
     ]
    }
   ],
   "source": [
    "lp = agent.prime_pool_state(start_block, 'user')\n",
    "lp.summary() "
   ]
  },
  {
   "cell_type": "code",
   "execution_count": 8,
   "id": "ff15a515-5aee-4fa5-9790-affab9eb053e",
   "metadata": {},
   "outputs": [
    {
     "name": "stdout",
     "output_type": "stream",
     "text": [
      "Block 23036303: Swapped 1.0 USDC for 0.000258783542747931 WETH\n",
      "Block 23036309: Swapped 1.0 USDC for 0.000258783508068254 WETH\n",
      "Block 23036318: Swapped 1.0 USDC for 0.000258783473388584 WETH\n",
      "Block 23036326: Swapped 1.0 USDC for 0.000258783438708921 WETH\n",
      "Block 23036332: Swapped 1.0 USDC for 0.000258783404029265 WETH\n",
      "Block 23036333: Swapped 1.0 USDC for 0.000258783369349616 WETH\n",
      "Block 23036340: Swapped 1.0 USDC for 0.000258783334669973 WETH\n",
      "Block 23036341: Swapped 1.0 USDC for 0.000258783299990338 WETH\n",
      "Block 23036344: Swapped 1.0 USDC for 0.00025878326531071 WETH\n",
      "Block 23036347: Swapped 1.0 USDC for 0.000258783230631088 WETH\n",
      "Block 23036359: Swapped 1.0 USDC for 0.000258783195951474 WETH\n",
      "Block 23036364: Swapped 1.0 USDC for 0.000258783161271867 WETH\n",
      "Block 23036364: Swapped 1.0 USDC for 0.000258783126592266 WETH\n",
      "Block 23036392: Swapped 1.0 USDC for 0.000258783091912673 WETH\n",
      "Block 23036395: Swapped 1.0 USDC for 0.000258783057233087 WETH\n",
      "Block 23036397: Swapped 1.0 USDC for 0.000258783022553507 WETH\n"
     ]
    }
   ],
   "source": [
    "agent.run_batch(tkn0, start_block, last_block)"
   ]
  },
  {
   "cell_type": "code",
   "execution_count": 10,
   "id": "ffdf71d7-e886-4a71-954f-567486a6e534",
   "metadata": {},
   "outputs": [
    {
     "data": {
      "text/plain": [
       "3854.3044308929952"
      ]
     },
     "execution_count": 10,
     "metadata": {},
     "output_type": "execute_result"
    }
   ],
   "source": [
    "price = agent.get_token_price(True, last_block)\n",
    "price"
   ]
  }
 ],
 "metadata": {
  "kernelspec": {
   "display_name": "Python 3 (ipykernel)",
   "language": "python",
   "name": "python3"
  },
  "language_info": {
   "codemirror_mode": {
    "name": "ipython",
    "version": 3
   },
   "file_extension": ".py",
   "mimetype": "text/x-python",
   "name": "python",
   "nbconvert_exporter": "python",
   "pygments_lexer": "ipython3",
   "version": "3.10.0rc2"
  }
 },
 "nbformat": 4,
 "nbformat_minor": 5
}
