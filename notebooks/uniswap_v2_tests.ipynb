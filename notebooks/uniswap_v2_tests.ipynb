{
 "cells": [
  {
   "cell_type": "markdown",
   "id": "8ee9b46b-75c6-4f77-b113-98766534604c",
   "metadata": {},
   "source": [
    "# Abstract Interface (V2)\n",
    "\n",
    "* **Swap()**: swaps X for Y (and vice verse)\n",
    "* **AddLiquidity()**: adds liquidity using only X or Y amounts\n",
    "* **RemoveLiquidity()**: removes liquidity using only X or Y amounts \n",
    "* **SwapDeposit()**: deposit desired token -> perform approx. 50% swap ->  perform approx. 50/50 deposit (exact percentages are calculated) \n",
    "* **WithdrawSwap()**: perform approx. 50/50 withdraw  -> swap remaining approx. 50% -> return desired token (exact percentages are calculated)"
   ]
  },
  {
   "cell_type": "code",
   "execution_count": 1,
   "id": "440f92b5-615b-4550-83d6-a3e8c2875184",
   "metadata": {},
   "outputs": [],
   "source": [
    "from defipy import *"
   ]
  },
  {
   "cell_type": "code",
   "execution_count": 2,
   "id": "1e68a541-b6c0-4733-949d-d6ac123f2b72",
   "metadata": {},
   "outputs": [],
   "source": [
    "user_nm = 'user0'\n",
    "eth_amount = 1000\n",
    "tkn_amount = 100000"
   ]
  },
  {
   "cell_type": "markdown",
   "id": "4d1a3d37-a5b7-42c9-84f6-35a049bf4826",
   "metadata": {},
   "source": [
    "#### Swap()\n",
    "* tkn0 for tkn1"
   ]
  },
  {
   "cell_type": "code",
   "execution_count": 3,
   "id": "b1d1f2c2-a3c5-40dc-956b-bc6390fd7789",
   "metadata": {},
   "outputs": [
    {
     "name": "stdout",
     "output_type": "stream",
     "text": [
      "Exchange ETH-TKN (LP)\n",
      "Reserves: ETH = 1000.0, TKN = 100000.0\n",
      "Liquidity: 10000.0 \n",
      "\n",
      "Exchange ETH-TKN (LP)\n",
      "Reserves: ETH = 990.1284196560293, TKN = 101000.0\n",
      "Liquidity: 10000.0 \n",
      "\n"
     ]
    }
   ],
   "source": [
    "tkn = ERC20(\"TKN\", \"0x111\")\n",
    "eth = ERC20(\"ETH\", \"0x09\")\n",
    "exchg_data = UniswapExchangeData(tkn0 = eth, tkn1 = tkn, symbol=\"LP\", address=\"0x011\")\n",
    "\n",
    "factory = UniswapFactory(\"ETH pool factory\", \"0x2\")\n",
    "lp = factory.deploy(exchg_data)\n",
    "lp.add_liquidity(user_nm, eth_amount, tkn_amount, eth_amount, tkn_amount)\n",
    "lp.summary()\n",
    "\n",
    "out = Swap().apply(lp, tkn, user_nm, 1000)\n",
    "lp.summary()"
   ]
  },
  {
   "cell_type": "markdown",
   "id": "865bc323-fd14-42b5-9cfd-26d923a39f23",
   "metadata": {},
   "source": [
    "* tkn1 for tkn0"
   ]
  },
  {
   "cell_type": "code",
   "execution_count": 4,
   "id": "901298ea-eb06-479d-b05f-711da5d80331",
   "metadata": {},
   "outputs": [
    {
     "name": "stdout",
     "output_type": "stream",
     "text": [
      "Exchange ETH-TKN (LP)\n",
      "Reserves: ETH = 1000.0, TKN = 100000.0\n",
      "Liquidity: 10000.0 \n",
      "\n",
      "Exchange ETH-TKN (LP)\n",
      "Reserves: ETH = 1010.0, TKN = 99012.84196560294\n",
      "Liquidity: 10000.0 \n",
      "\n"
     ]
    }
   ],
   "source": [
    "tkn = ERC20(\"TKN\", \"0x111\")\n",
    "eth = ERC20(\"ETH\", \"0x09\")\n",
    "exchg_data = UniswapExchangeData(tkn0 = eth, tkn1 = tkn, symbol=\"LP\", address=\"0x011\")\n",
    "\n",
    "factory = UniswapFactory(\"ETH pool factory\", \"0x2\")\n",
    "lp = factory.deploy(exchg_data)\n",
    "lp.add_liquidity(user_nm, eth_amount, tkn_amount, eth_amount, tkn_amount)\n",
    "lp.summary()\n",
    "\n",
    "out = Swap().apply(lp, eth, user_nm, 10)\n",
    "lp.summary()"
   ]
  },
  {
   "cell_type": "markdown",
   "id": "64475593-9bb6-4a60-9248-656f92dc0759",
   "metadata": {},
   "source": [
    "* swap lp token for tkn1"
   ]
  },
  {
   "cell_type": "code",
   "execution_count": 5,
   "id": "a7b41d95-d1a9-43bd-bad3-a258bb44f6b3",
   "metadata": {},
   "outputs": [
    {
     "name": "stdout",
     "output_type": "stream",
     "text": [
      "Exchange ETH-TKN (LP)\n",
      "Reserves: ETH = 1000.0, TKN = 100000.0\n",
      "Liquidity: 10000.0 \n",
      "\n",
      "Exchange ETHTKN-LP-TKN (LP2)\n",
      "Reserves: ETHTKN-LP = 1e+22, TKN = 100000.0\n",
      "Liquidity: 31622776601683.793 \n",
      "\n",
      "Exchange ETHTKN-LP-TKN (LP2)\n",
      "Reserves: ETHTKN-LP = 1e+22, TKN = 100000.0\n",
      "Liquidity: 31622776601683.793 \n",
      "\n"
     ]
    }
   ],
   "source": [
    "tkn = ERC20(\"TKN\", \"0x111\")\n",
    "eth = ERC20(\"ETH\", \"0x09\")\n",
    "exchg_data = UniswapExchangeData(tkn0 = eth, tkn1 = tkn, symbol=\"LP\", address=\"0x011\")\n",
    "\n",
    "factory = UniswapFactory(\"ETH pool factory\", \"0x2\")\n",
    "lp_tkn = factory.deploy(exchg_data)\n",
    "lp_tkn.add_liquidity(user_nm, eth_amount, tkn_amount, eth_amount, tkn_amount)\n",
    "lp_tkn.summary()\n",
    "\n",
    "tkn2 = ERC20(\"TKN\", \"0x112\")\n",
    "lp_tkn_amount = lp_tkn.total_supply\n",
    "exchg_data = UniswapExchangeData(tkn0 = lp_tkn, tkn1 = tkn2, symbol=\"LP2\", address=\"0x012\")\n",
    "lp2 = factory.deploy(exchg_data)\n",
    "lp2.add_liquidity(user_nm, lp_tkn_amount, tkn_amount, lp_tkn_amount, tkn_amount)\n",
    "lp2.summary()\n",
    "\n",
    "out = Swap().apply(lp2, lp_tkn, user_nm, 100)\n",
    "lp2.summary()"
   ]
  },
  {
   "cell_type": "markdown",
   "id": "64bb3bc1-9081-4c26-bff4-b7ede44eed55",
   "metadata": {},
   "source": [
    "* swap lp token for tkn0"
   ]
  },
  {
   "cell_type": "code",
   "execution_count": 6,
   "id": "77ae8f37-8091-4acf-9208-058dbf9ca1ae",
   "metadata": {},
   "outputs": [
    {
     "name": "stdout",
     "output_type": "stream",
     "text": [
      "Exchange ETH-TKN (LP)\n",
      "Reserves: ETH = 1000.0, TKN = 100000.0\n",
      "Liquidity: 10000.0 \n",
      "\n",
      "Exchange ETHTKN-LP-TKN (LP2)\n",
      "Reserves: ETHTKN-LP = 1e+22, TKN = 100000.0\n",
      "Liquidity: 31622776601683.793 \n",
      "\n",
      "Exchange ETHTKN-LP-TKN (LP2)\n",
      "Reserves: ETHTKN-LP = 9.990039930189602e+21, TKN = 100100.0\n",
      "Liquidity: 31622776601683.793 \n",
      "\n"
     ]
    }
   ],
   "source": [
    "tkn = ERC20(\"TKN\", \"0x111\")\n",
    "eth = ERC20(\"ETH\", \"0x09\")\n",
    "exchg_data = UniswapExchangeData(tkn0 = eth, tkn1 = tkn, symbol=\"LP\", address=\"0x011\")\n",
    "\n",
    "factory = UniswapFactory(\"ETH pool factory\", \"0x2\")\n",
    "lp_tkn = factory.deploy(exchg_data)\n",
    "lp_tkn.add_liquidity(user_nm, eth_amount, tkn_amount, eth_amount, tkn_amount)\n",
    "lp_tkn.summary()\n",
    "\n",
    "tkn2 = ERC20(\"TKN\", \"0x112\")\n",
    "lp_tkn_amount = lp_tkn.total_supply\n",
    "exchg_data = UniswapExchangeData(tkn0 = lp_tkn, tkn1 = tkn2, symbol=\"LP2\", address=\"0x012\")\n",
    "lp2 = factory.deploy(exchg_data)\n",
    "lp2.add_liquidity(user_nm, lp_tkn_amount, tkn_amount, lp_tkn_amount, tkn_amount)\n",
    "lp2.summary()\n",
    "\n",
    "out = Swap().apply(lp2, tkn2, user_nm, 100)\n",
    "lp2.summary()"
   ]
  },
  {
   "cell_type": "markdown",
   "id": "1f6e9045-2637-4a29-8577-95d07ba9343e",
   "metadata": {},
   "source": [
    "#### AddLiquidity()\n",
    "* add tkn1 and determine tkn0 "
   ]
  },
  {
   "cell_type": "code",
   "execution_count": 7,
   "id": "1fd83152-c93e-491d-89bf-e780ba079dd5",
   "metadata": {},
   "outputs": [
    {
     "name": "stdout",
     "output_type": "stream",
     "text": [
      "Exchange ETH-TKN (LP)\n",
      "Reserves: ETH = 1000.0, TKN = 100000.0\n",
      "Liquidity: 10000.0 \n",
      "\n",
      "Exchange ETH-TKN (LP)\n",
      "Reserves: ETH = 1010.0, TKN = 101000.0\n",
      "Liquidity: 10100.0 \n",
      "\n"
     ]
    }
   ],
   "source": [
    "tkn = ERC20(\"TKN\", \"0x111\")\n",
    "eth = ERC20(\"ETH\", \"0x09\")\n",
    "exchg_data = UniswapExchangeData(tkn0 = eth, tkn1 = tkn, symbol=\"LP\", address=\"0x011\")\n",
    "\n",
    "factory = UniswapFactory(\"ETH pool factory\", \"0x2\")\n",
    "lp = factory.deploy(exchg_data)\n",
    "lp.add_liquidity(user_nm, eth_amount, tkn_amount, eth_amount, tkn_amount)\n",
    "lp.summary()\n",
    "\n",
    "AddLiquidity().apply(lp, eth, user_nm, 10)\n",
    "lp.summary()"
   ]
  },
  {
   "cell_type": "markdown",
   "id": "7667ae3b-93a9-4253-948e-27653c7852bf",
   "metadata": {},
   "source": [
    "* add tkn0 and determine tkn1"
   ]
  },
  {
   "cell_type": "code",
   "execution_count": 8,
   "id": "f65c0db1-f95f-4274-930f-e2633066605c",
   "metadata": {},
   "outputs": [
    {
     "name": "stdout",
     "output_type": "stream",
     "text": [
      "Exchange ETH-TKN (LP)\n",
      "Reserves: ETH = 1000.0, TKN = 100000.0\n",
      "Liquidity: 10000.0 \n",
      "\n",
      "Exchange ETH-TKN (LP)\n",
      "Reserves: ETH = 1010.0, TKN = 101000.0\n",
      "Liquidity: 10100.0 \n",
      "\n"
     ]
    },
    {
     "data": {
      "text/plain": [
       "{'0': 1000, 'user0': 10099999999999999999000}"
      ]
     },
     "execution_count": 8,
     "metadata": {},
     "output_type": "execute_result"
    }
   ],
   "source": [
    "tkn = ERC20(\"TKN\", \"0x111\")\n",
    "eth = ERC20(\"ETH\", \"0x09\")\n",
    "exchg_data = UniswapExchangeData(tkn0 = eth, tkn1 = tkn, symbol=\"LP\", address=\"0x011\")\n",
    "\n",
    "factory = UniswapFactory(\"ETH pool factory\", \"0x2\")\n",
    "lp = factory.deploy(exchg_data)\n",
    "lp.add_liquidity(user_nm, eth_amount, tkn_amount, eth_amount, tkn_amount)\n",
    "lp.summary()\n",
    "\n",
    "AddLiquidity().apply(lp, tkn, user_nm, 1000)\n",
    "lp.summary()\n",
    "lp.liquidity_providers"
   ]
  },
  {
   "cell_type": "markdown",
   "id": "b12993dc-ea79-4a58-8c29-61608e06e04e",
   "metadata": {},
   "source": [
    "* add LP based on tkn2 "
   ]
  },
  {
   "cell_type": "code",
   "execution_count": 9,
   "id": "faf86ad2-8c3b-4bf4-9b38-6f2fdbac0973",
   "metadata": {},
   "outputs": [
    {
     "name": "stdout",
     "output_type": "stream",
     "text": [
      "Exchange ETH-TKN (LP)\n",
      "Reserves: ETH = 1000.0, TKN = 100000.0\n",
      "Liquidity: 10000.0 \n",
      "\n",
      "Exchange ETHTKN-LP-TKN (LP2)\n",
      "Reserves: ETHTKN-LP = 1e+22, TKN = 100000.0\n",
      "Liquidity: 31622776601683.793 \n",
      "\n",
      "Exchange ETHTKN-LP-TKN (LP2)\n",
      "Reserves: ETHTKN-LP = 1.0001e+22, TKN = 100010.0\n",
      "Liquidity: 31625938879343.96 \n",
      "\n"
     ]
    }
   ],
   "source": [
    "tkn = ERC20(\"TKN\", \"0x111\")\n",
    "eth = ERC20(\"ETH\", \"0x09\")\n",
    "exchg_data = UniswapExchangeData(tkn0 = eth, tkn1 = tkn, symbol=\"LP\", address=\"0x011\")\n",
    "\n",
    "factory = UniswapFactory(\"ETH pool factory\", \"0x2\")\n",
    "lp_tkn = factory.deploy(exchg_data)\n",
    "lp_tkn.add_liquidity(user_nm, eth_amount, tkn_amount, eth_amount, tkn_amount)\n",
    "lp_tkn.summary()\n",
    "\n",
    "tkn2 = ERC20(\"TKN\", \"0x112\")\n",
    "lp_tkn_amount = lp_tkn.total_supply\n",
    "exchg_data = UniswapExchangeData(tkn0 = lp_tkn, tkn1 = tkn2, symbol=\"LP2\", address=\"0x012\")\n",
    "lp2 = factory.deploy(exchg_data)\n",
    "lp2.add_liquidity(user_nm, lp_tkn_amount, tkn_amount, lp_tkn_amount, tkn_amount)\n",
    "lp2.summary()\n",
    "\n",
    "AddLiquidity().apply(lp2, tkn2, user_nm, 10)\n",
    "lp2.summary()"
   ]
  },
  {
   "cell_type": "markdown",
   "id": "33e9f7a0-b1df-489e-a979-3812565c3205",
   "metadata": {},
   "source": [
    "* add LP based on lp_tkn"
   ]
  },
  {
   "cell_type": "code",
   "execution_count": 10,
   "id": "ab6ae0c1-234a-4f72-b6d4-ffacbe2f5ba1",
   "metadata": {},
   "outputs": [
    {
     "name": "stdout",
     "output_type": "stream",
     "text": [
      "Exchange ETH-TKN (LP)\n",
      "Reserves: ETH = 1000.0, TKN = 100000.0\n",
      "Liquidity: 10000.0 \n",
      "\n",
      "Exchange ETHTKN-LP-TKN (LP2)\n",
      "Reserves: ETHTKN-LP = 1e+22, TKN = 100000.0\n",
      "Liquidity: 31622776601683.793 \n",
      "\n",
      "Exchange ETHTKN-LP-TKN (LP2)\n",
      "Reserves: ETHTKN-LP = 1e+22, TKN = 100000.0\n",
      "Liquidity: 31622776601683.793 \n",
      "\n"
     ]
    }
   ],
   "source": [
    "tkn = ERC20(\"TKN\", \"0x111\")\n",
    "eth = ERC20(\"ETH\", \"0x09\")\n",
    "exchg_data = UniswapExchangeData(tkn0 = eth, tkn1 = tkn, symbol=\"LP\", address=\"0x011\")\n",
    "\n",
    "factory = UniswapFactory(\"ETH pool factory\", \"0x2\")\n",
    "lp_tkn = factory.deploy(exchg_data)\n",
    "lp_tkn.add_liquidity(user_nm, eth_amount, tkn_amount, eth_amount, tkn_amount)\n",
    "lp_tkn.summary()\n",
    "\n",
    "tkn2 = ERC20(\"TKN\", \"0x112\")\n",
    "lp_tkn_amount = lp_tkn.total_supply\n",
    "exchg_data = UniswapExchangeData(tkn0 = lp_tkn, tkn1 = tkn2, symbol=\"LP2\", address=\"0x012\")\n",
    "lp2 = factory.deploy(exchg_data)\n",
    "lp2.add_liquidity(user_nm, lp_tkn_amount, tkn_amount, lp_tkn_amount, tkn_amount)\n",
    "lp2.summary()\n",
    "\n",
    "AddLiquidity().apply(lp2, lp_tkn, user_nm, 10)\n",
    "lp2.summary()"
   ]
  },
  {
   "cell_type": "markdown",
   "id": "a05d867f-0e2b-43dc-9a22-23b650290c74",
   "metadata": {},
   "source": [
    "#### RemoveLiquidity()\n",
    "* remove tkn1 and determine tkn0"
   ]
  },
  {
   "cell_type": "code",
   "execution_count": 11,
   "id": "2300eb80-153d-4538-a6f8-dd34839f42c2",
   "metadata": {},
   "outputs": [
    {
     "name": "stdout",
     "output_type": "stream",
     "text": [
      "Exchange ETH-TKN (LP)\n",
      "Reserves: ETH = 1000.0, TKN = 100000.0\n",
      "Liquidity: 10000.0 \n",
      "\n",
      "Exchange ETH-TKN (LP)\n",
      "Reserves: ETH = 1.0, TKN = 100.0\n",
      "Liquidity: 10.0 \n",
      "\n"
     ]
    }
   ],
   "source": [
    "tkn = ERC20(\"TKN\", \"0x111\")\n",
    "eth = ERC20(\"ETH\", \"0x09\")\n",
    "exchg_data = UniswapExchangeData(tkn0 = eth, tkn1 = tkn, symbol=\"LP\", address=\"0x011\")\n",
    "\n",
    "factory = UniswapFactory(\"ETH pool factory\", \"0x2\")\n",
    "lp = factory.deploy(exchg_data)\n",
    "lp.add_liquidity(user_nm, eth_amount, tkn_amount, eth_amount, tkn_amount)\n",
    "lp.summary()\n",
    "\n",
    "RemoveLiquidity().apply(lp, eth, user_nm, 999)\n",
    "lp.summary()"
   ]
  },
  {
   "cell_type": "markdown",
   "id": "33e01ddc-4751-4db3-95c3-0f4b76286cdf",
   "metadata": {},
   "source": [
    "* remove tkn0 and determine tkn1"
   ]
  },
  {
   "cell_type": "code",
   "execution_count": 12,
   "id": "5cdf6d7b-049d-42cc-b815-ba5978112c83",
   "metadata": {},
   "outputs": [
    {
     "name": "stdout",
     "output_type": "stream",
     "text": [
      "Exchange ETH-TKN (LP)\n",
      "Reserves: ETH = 1000.0, TKN = 100000.0\n",
      "Liquidity: 10000.0 \n",
      "\n",
      "Exchange ETH-TKN (LP)\n",
      "Reserves: ETH = 999.0, TKN = 99900.0\n",
      "Liquidity: 9990.0 \n",
      "\n"
     ]
    }
   ],
   "source": [
    "tkn = ERC20(\"TKN\", \"0x111\")\n",
    "eth = ERC20(\"ETH\", \"0x09\")\n",
    "exchg_data = UniswapExchangeData(tkn0 = eth, tkn1 = tkn, symbol=\"LP\", address=\"0x011\")\n",
    "\n",
    "factory = UniswapFactory(\"ETH pool factory\", \"0x2\")\n",
    "lp = factory.deploy(exchg_data)\n",
    "lp.add_liquidity(user_nm, eth_amount, tkn_amount, eth_amount, tkn_amount)\n",
    "lp.summary()\n",
    "\n",
    "RemoveLiquidity().apply(lp, tkn, user_nm, 100)\n",
    "lp.summary()"
   ]
  },
  {
   "cell_type": "markdown",
   "id": "24006a6a-28ed-4b29-8cb2-511622c86dce",
   "metadata": {},
   "source": [
    "* remove LP based on tkn2 "
   ]
  },
  {
   "cell_type": "code",
   "execution_count": 13,
   "id": "2edbd570-cccc-4a40-af67-0d98256db72d",
   "metadata": {},
   "outputs": [
    {
     "name": "stdout",
     "output_type": "stream",
     "text": [
      "Exchange ETH-TKN (LP)\n",
      "Reserves: ETH = 1000.0, TKN = 100000.0\n",
      "Liquidity: 10000.0 \n",
      "\n",
      "Exchange ETHTKN-LP-TKN (LP2)\n",
      "Reserves: ETHTKN-LP = 1000.0, TKN = 1000.0\n",
      "Liquidity: 1000.0 \n",
      "\n",
      "Exchange ETHTKN-LP-TKN (LP2)\n",
      "Reserves: ETHTKN-LP = 990.0, TKN = 990.0\n",
      "Liquidity: 990.0 \n",
      "\n"
     ]
    }
   ],
   "source": [
    "tkn = ERC20(\"TKN\", \"0x111\")\n",
    "eth = ERC20(\"ETH\", \"0x09\")\n",
    "exchg_data = UniswapExchangeData(tkn0 = eth, tkn1 = tkn, symbol=\"LP\", address=\"0x011\")\n",
    "\n",
    "factory = UniswapFactory(\"ETH pool factory\", \"0x2\")\n",
    "lp_tkn = factory.deploy(exchg_data)\n",
    "lp_tkn.add_liquidity(user_nm, eth_amount, tkn_amount, eth_amount, tkn_amount)\n",
    "lp_tkn.summary()\n",
    "\n",
    "tkn2 = ERC20(\"TKN\", \"0x112\")\n",
    "lp_tkn_amount = 1000\n",
    "exchg_data = UniswapExchangeData(tkn0 = lp_tkn, tkn1 = tkn2, symbol=\"LP2\", address=\"0x012\")\n",
    "lp2 = factory.deploy(exchg_data)\n",
    "lp2.add_liquidity(user_nm, eth_amount, lp_tkn_amount, eth_amount, lp_tkn_amount)\n",
    "lp2.summary()\n",
    "\n",
    "RemoveLiquidity().apply(lp2, tkn2, user_nm, 10)\n",
    "lp2.summary()"
   ]
  },
  {
   "cell_type": "markdown",
   "id": "5bdc7572-9808-4709-9314-50782f0067fc",
   "metadata": {},
   "source": [
    "* remove LP based on lp_tkn "
   ]
  },
  {
   "cell_type": "code",
   "execution_count": 14,
   "id": "ff5c4281-749f-4ecb-a9a5-cd06bf59cd51",
   "metadata": {},
   "outputs": [
    {
     "name": "stdout",
     "output_type": "stream",
     "text": [
      "Exchange ETH-TKN (LP)\n",
      "Reserves: ETH = 1000.0, TKN = 100000.0\n",
      "Liquidity: 10000.0 \n",
      "\n",
      "Exchange ETHTKN-LP-TKN (LP2)\n",
      "Reserves: ETHTKN-LP = 1000.0, TKN = 1000.0\n",
      "Liquidity: 1000.0 \n",
      "\n",
      "Exchange ETHTKN-LP-TKN (LP2)\n",
      "Reserves: ETHTKN-LP = 990.0, TKN = 990.0\n",
      "Liquidity: 990.0 \n",
      "\n"
     ]
    }
   ],
   "source": [
    "tkn = ERC20(\"TKN\", \"0x111\")\n",
    "eth = ERC20(\"ETH\", \"0x09\")\n",
    "exchg_data = UniswapExchangeData(tkn0 = eth, tkn1 = tkn, symbol=\"LP\", address=\"0x011\")\n",
    "\n",
    "factory = UniswapFactory(\"ETH pool factory\", \"0x2\")\n",
    "lp_tkn = factory.deploy(exchg_data)\n",
    "lp_tkn.add_liquidity(user_nm, eth_amount, tkn_amount, eth_amount, tkn_amount)\n",
    "lp_tkn.summary()\n",
    "\n",
    "tkn2 = ERC20(\"TKN\", \"0x112\")\n",
    "lp_tkn_amount = 1000\n",
    "exchg_data = UniswapExchangeData(tkn0 = lp_tkn, tkn1 = tkn2, symbol=\"LP2\", address=\"0x012\")\n",
    "lp2 = factory.deploy(exchg_data)\n",
    "lp2.add_liquidity(user_nm, eth_amount, lp_tkn_amount, eth_amount, lp_tkn_amount)\n",
    "lp2.summary()\n",
    "\n",
    "RemoveLiquidity().apply(lp2, lp_tkn, user_nm, 10)\n",
    "lp2.summary()"
   ]
  },
  {
   "cell_type": "markdown",
   "id": "a244262b-a3d9-4096-9fdc-73d964c59c4d",
   "metadata": {},
   "source": [
    "#### SwapDeposit()\n",
    "\n",
    "* swap exact tkn1 for tkn0\n",
    "* deposit desired token -> perform 50% swap ->  perform 50/50 deposit"
   ]
  },
  {
   "cell_type": "code",
   "execution_count": 15,
   "id": "dd65eee3-b8d0-4b83-8c04-cf99ea55fcc4",
   "metadata": {},
   "outputs": [
    {
     "name": "stdout",
     "output_type": "stream",
     "text": [
      "Exchange ETH-TKN (LP)\n",
      "Reserves: ETH = 1000.0, TKN = 100000.0\n",
      "Liquidity: 10000.0 \n",
      "\n",
      "Exchange ETH-TKN (LP)\n",
      "Reserves: ETH = 1000.0, TKN = 100100.0\n",
      "Liquidity: 10004.991241237401 \n",
      "\n"
     ]
    }
   ],
   "source": [
    "tkn = ERC20(\"TKN\", \"0x111\")\n",
    "eth = ERC20(\"ETH\", \"0x09\")\n",
    "exchg_data = UniswapExchangeData(tkn0 = eth, tkn1 = tkn, symbol=\"LP\", address=\"0x011\")\n",
    "\n",
    "factory = UniswapFactory(\"ETH pool factory\", \"0x2\")\n",
    "lp = factory.deploy(exchg_data)\n",
    "lp.add_liquidity(user_nm, eth_amount, tkn_amount, eth_amount, tkn_amount)\n",
    "lp.summary()\n",
    "\n",
    "SwapDeposit().apply(lp, tkn, user_nm, 100)\n",
    "lp.summary() "
   ]
  },
  {
   "cell_type": "markdown",
   "id": "ab3beefc-0392-4ea4-a6f2-6151eda3ea5e",
   "metadata": {},
   "source": [
    "* swap exact tkn0 for tkn1\n",
    "* deposit desired token -> perform 50% swap ->  perform 50/50 deposit"
   ]
  },
  {
   "cell_type": "code",
   "execution_count": 16,
   "id": "e411ba09-3688-4998-94b4-c0453f4700d9",
   "metadata": {},
   "outputs": [
    {
     "name": "stdout",
     "output_type": "stream",
     "text": [
      "Exchange ETH-TKN (LP)\n",
      "Reserves: ETH = 1000.0, TKN = 100000.0\n",
      "Liquidity: 10000.0 \n",
      "\n",
      "Exchange ETH-TKN (LP)\n",
      "Reserves: ETH = 1001.0, TKN = 100000.0\n",
      "Liquidity: 10004.991241237401 \n",
      "\n"
     ]
    }
   ],
   "source": [
    "tkn = ERC20(\"TKN\", \"0x111\")\n",
    "eth = ERC20(\"ETH\", \"0x09\")\n",
    "exchg_data = UniswapExchangeData(tkn0 = eth, tkn1 = tkn, symbol=\"LP\", address=\"0x011\")\n",
    "\n",
    "factory = UniswapFactory(\"ETH pool factory\", \"0x2\")\n",
    "lp = factory.deploy(exchg_data)\n",
    "lp.add_liquidity(user_nm, eth_amount, tkn_amount, eth_amount, tkn_amount)\n",
    "lp.summary()\n",
    "\n",
    "amount_out = SwapDeposit().apply(lp, eth, user_nm, 1)\n",
    "lp.summary()"
   ]
  },
  {
   "cell_type": "markdown",
   "id": "7b92448d-0bb4-4edf-a3a2-95aa1a49c03e",
   "metadata": {},
   "source": [
    "* deposit LP with only tkn2\n",
    "* deposit desired token -> perform 50% swap ->  perform 50/50 deposit"
   ]
  },
  {
   "cell_type": "code",
   "execution_count": 17,
   "id": "22ba41bd-4f26-44a2-9201-4e5b3f28da9c",
   "metadata": {},
   "outputs": [
    {
     "name": "stdout",
     "output_type": "stream",
     "text": [
      "Exchange ETH-TKN (LP)\n",
      "Reserves: ETH = 1000.0, TKN = 100000.0\n",
      "Liquidity: 10000.0 \n",
      "\n",
      "Exchange ETHTKN-LP-TKN (LP2)\n",
      "Reserves: ETHTKN-LP = 1000.0, TKN = 1000.0\n",
      "Liquidity: 1000.0 \n",
      "\n",
      "Exchange ETHTKN-LP-TKN (LP2)\n",
      "Reserves: ETHTKN-LP = 1000.0, TKN = 1010.0\n",
      "Liquidity: 1004.980069557936 \n",
      "\n"
     ]
    }
   ],
   "source": [
    "tkn = ERC20(\"TKN\", \"0x111\")\n",
    "eth = ERC20(\"ETH\", \"0x09\")\n",
    "exchg_data = UniswapExchangeData(tkn0 = eth, tkn1 = tkn, symbol=\"LP\", address=\"0x011\")\n",
    "\n",
    "factory = UniswapFactory(\"ETH pool factory\", \"0x2\")\n",
    "lp_tkn = factory.deploy(exchg_data)\n",
    "lp_tkn.add_liquidity(user_nm, eth_amount, tkn_amount, eth_amount, tkn_amount)\n",
    "lp_tkn.summary()\n",
    "\n",
    "tkn2 = ERC20(\"TKN\", \"0x112\")\n",
    "exchg_data = UniswapExchangeData(tkn0 = lp_tkn, tkn1 = tkn2, symbol=\"LP2\", address=\"0x012\")\n",
    "lp2 = factory.deploy(exchg_data)\n",
    "lp2.add_liquidity(user_nm, eth_amount, lp_tkn_amount, eth_amount, lp_tkn_amount)\n",
    "lp2.summary()\n",
    "\n",
    "SwapDeposit().apply(lp2, tkn2, user_nm, 10)\n",
    "lp2.summary() "
   ]
  },
  {
   "cell_type": "markdown",
   "id": "aa173eb9-9334-4371-8b2c-52ceb1ea8a77",
   "metadata": {},
   "source": [
    "* deposit LP with only lp_tkn\n",
    "* deposit desired token -> perform 50% swap ->  perform 50/50 deposit"
   ]
  },
  {
   "cell_type": "code",
   "execution_count": 18,
   "id": "bce4180a-8b99-47cf-9f71-571d2c84bdec",
   "metadata": {},
   "outputs": [
    {
     "name": "stdout",
     "output_type": "stream",
     "text": [
      "Exchange ETH-TKN (LP)\n",
      "Reserves: ETH = 1000.0, TKN = 100000.0\n",
      "Liquidity: 10000.0 \n",
      "\n",
      "Exchange ETHTKN-LP-TKN (LP2)\n",
      "Reserves: ETHTKN-LP = 1000.0, TKN = 1000.0\n",
      "Liquidity: 1000.0 \n",
      "\n",
      "Exchange ETHTKN-LP-TKN (LP2)\n",
      "Reserves: ETHTKN-LP = 1010.0, TKN = 1000.0\n",
      "Liquidity: 1004.980069557936 \n",
      "\n"
     ]
    }
   ],
   "source": [
    "tkn = ERC20(\"TKN\", \"0x111\")\n",
    "eth = ERC20(\"ETH\", \"0x09\")\n",
    "exchg_data = UniswapExchangeData(tkn0 = eth, tkn1 = tkn, symbol=\"LP\", address=\"0x011\")\n",
    "\n",
    "factory = UniswapFactory(\"ETH pool factory\", \"0x2\")\n",
    "lp_tkn = factory.deploy(exchg_data)\n",
    "lp_tkn.add_liquidity(user_nm, eth_amount, tkn_amount, eth_amount, tkn_amount)\n",
    "lp_tkn.summary()\n",
    "\n",
    "tkn2 = ERC20(\"TKN\", \"0x112\")\n",
    "lp_tkn_amount = 1000\n",
    "exchg_data = UniswapExchangeData(tkn0 = lp_tkn, tkn1 = tkn2, symbol=\"LP2\", address=\"0x012\")\n",
    "lp2 = factory.deploy(exchg_data)\n",
    "lp2.add_liquidity(user_nm, eth_amount, lp_tkn_amount, eth_amount, lp_tkn_amount)\n",
    "lp2.summary()\n",
    "\n",
    "SwapDeposit().apply(lp2, lp_tkn, user_nm, 10)\n",
    "lp2.summary() "
   ]
  },
  {
   "cell_type": "markdown",
   "id": "b28f8cfb-5073-4314-9341-17b30bde3886",
   "metadata": {},
   "source": [
    "#### WithdrawSwap() \n",
    "* withdraw exact tkn1 \n",
    "* withdraw LP based upon expected amount of eth\n",
    "* perform 50/50 withdraw  -> swap remaining 50% -> return desired token"
   ]
  },
  {
   "cell_type": "code",
   "execution_count": 19,
   "id": "90fa05cd-f102-4ccc-bf7f-38cfb6d90fe6",
   "metadata": {},
   "outputs": [
    {
     "name": "stdout",
     "output_type": "stream",
     "text": [
      "Exchange ETH-TKN (LP)\n",
      "Reserves: ETH = 1000.0, TKN = 100000.0\n",
      "Liquidity: 10000.0 \n",
      "\n",
      "Exchange ETH-TKN (LP)\n",
      "Reserves: ETH = 999.0, TKN = 100000.0\n",
      "Liquidity: 9994.991239989282 \n",
      "\n"
     ]
    }
   ],
   "source": [
    "tkn = ERC20(\"TKN\", \"0x111\")\n",
    "eth = ERC20(\"ETH\", \"0x09\")\n",
    "exchg_data = UniswapExchangeData(tkn0 = eth, tkn1 = tkn, symbol=\"LP\", address=\"0x011\")\n",
    "\n",
    "factory = UniswapFactory(\"ETH pool factory\", \"0x2\")\n",
    "lp = factory.deploy(exchg_data)\n",
    "lp.add_liquidity(user_nm, eth_amount, tkn_amount, eth_amount, tkn_amount)\n",
    "lp.summary()\n",
    "\n",
    "expected_amount_out = WithdrawSwap().apply(lp, eth, user_nm, 1)\n",
    "lp.summary()"
   ]
  },
  {
   "cell_type": "markdown",
   "id": "2a60bf10-f474-4224-b02b-127dcd77b1d6",
   "metadata": {},
   "source": [
    "* withdraw exact tkn0\n",
    "* withdraw LP based upon expected amount of tkn"
   ]
  },
  {
   "cell_type": "code",
   "execution_count": 20,
   "id": "e6f8a1eb-d1ea-45bd-a6fa-30f206f5c48b",
   "metadata": {},
   "outputs": [
    {
     "name": "stdout",
     "output_type": "stream",
     "text": [
      "Exchange ETH-TKN (LP)\n",
      "Reserves: ETH = 1000.0, TKN = 100000.0\n",
      "Liquidity: 10000.0 \n",
      "\n",
      "Exchange ETH-TKN (LP)\n",
      "Reserves: ETH = 1000.0, TKN = 99900.0\n",
      "Liquidity: 9994.991239989282 \n",
      "\n"
     ]
    }
   ],
   "source": [
    "tkn = ERC20(\"TKN\", \"0x111\")\n",
    "eth = ERC20(\"ETH\", \"0x09\")\n",
    "exchg_data = UniswapExchangeData(tkn0 = eth, tkn1 = tkn, symbol=\"LP\", address=\"0x011\")\n",
    "\n",
    "factory = UniswapFactory(\"ETH pool factory\", \"0x2\")\n",
    "lp = factory.deploy(exchg_data)\n",
    "lp.add_liquidity(user_nm, eth_amount, tkn_amount, eth_amount, tkn_amount)\n",
    "lp.summary()\n",
    "\n",
    "expected_amount_out = WithdrawSwap().apply(lp, tkn, user_nm, 100)\n",
    "lp.summary()"
   ]
  },
  {
   "cell_type": "markdown",
   "id": "f0f7c60d-b4ea-4568-aafd-ad232bf6edbb",
   "metadata": {},
   "source": [
    "* withdraw LP based upon expected amount of tkn2\n",
    "* perform 50/50 withdraw  -> swap remaining 50% -> return desired token"
   ]
  },
  {
   "cell_type": "code",
   "execution_count": 21,
   "id": "8fc42ffe-053b-4394-8cc4-e5f2a420549c",
   "metadata": {},
   "outputs": [
    {
     "name": "stdout",
     "output_type": "stream",
     "text": [
      "Exchange ETH-TKN (LP)\n",
      "Reserves: ETH = 1000.0, TKN = 100000.0\n",
      "Liquidity: 10000.0 \n",
      "\n",
      "Exchange ETHTKN-LP-TKN (LP2)\n",
      "Reserves: ETHTKN-LP = 1000.0, TKN = 1000.0\n",
      "Liquidity: 1000.0 \n",
      "\n",
      "Exchange ETHTKN-LP-TKN (LP2)\n",
      "Reserves: ETHTKN-LP = 1000.0, TKN = 990.0\n",
      "Liquidity: 994.9799447405356 \n",
      "\n"
     ]
    }
   ],
   "source": [
    "tkn = ERC20(\"TKN\", \"0x111\")\n",
    "eth = ERC20(\"ETH\", \"0x09\")\n",
    "exchg_data = UniswapExchangeData(tkn0 = eth, tkn1 = tkn, symbol=\"LP\", address=\"0x011\")\n",
    "\n",
    "factory = UniswapFactory(\"ETH pool factory\", \"0x2\")\n",
    "lp_tkn = factory.deploy(exchg_data)\n",
    "lp_tkn.add_liquidity(user_nm, eth_amount, tkn_amount, eth_amount, tkn_amount)\n",
    "lp_tkn.summary()\n",
    "\n",
    "tkn2 = ERC20(\"TKN\", \"0x112\")\n",
    "lp_tkn_amount = 1000\n",
    "exchg_data = UniswapExchangeData(tkn0 = lp_tkn, tkn1 = tkn2, symbol=\"LP2\", address=\"0x012\")\n",
    "lp2 = factory.deploy(exchg_data)\n",
    "lp2.add_liquidity(user_nm, eth_amount, lp_tkn_amount, eth_amount, lp_tkn_amount)\n",
    "lp2.summary()\n",
    "\n",
    "WithdrawSwap().apply(lp2, tkn2, user_nm, 10)\n",
    "lp2.summary() "
   ]
  },
  {
   "cell_type": "markdown",
   "id": "715e626c-33c2-4f4d-8533-b114b960b30b",
   "metadata": {},
   "source": [
    "* withdraw LP based upon expected amount of tkn2\n",
    "* perform 50/50 withdraw  -> swap remaining 50% -> return desired token"
   ]
  },
  {
   "cell_type": "code",
   "execution_count": 22,
   "id": "20f30955-2980-4dd4-bedf-efaa1611b87f",
   "metadata": {},
   "outputs": [
    {
     "name": "stdout",
     "output_type": "stream",
     "text": [
      "Exchange ETH-TKN (LP)\n",
      "Reserves: ETH = 1000.0, TKN = 100000.0\n",
      "Liquidity: 10000.0 \n",
      "\n",
      "Exchange ETHTKN-LP-TKN (LP2)\n",
      "Reserves: ETHTKN-LP = 1000.0, TKN = 1000.0\n",
      "Liquidity: 1000.0 \n",
      "\n",
      "Exchange ETHTKN-LP-TKN (LP2)\n",
      "Reserves: ETHTKN-LP = 990.0, TKN = 1000.0\n",
      "Liquidity: 994.9799447405356 \n",
      "\n"
     ]
    }
   ],
   "source": [
    "tkn = ERC20(\"TKN\", \"0x111\")\n",
    "eth = ERC20(\"ETH\", \"0x09\")\n",
    "exchg_data = UniswapExchangeData(tkn0 = eth, tkn1 = tkn, symbol=\"LP\", address=\"0x011\")\n",
    "\n",
    "factory = UniswapFactory(\"ETH pool factory\", \"0x2\")\n",
    "lp_tkn = factory.deploy(exchg_data)\n",
    "lp_tkn.add_liquidity(user_nm, eth_amount, tkn_amount, eth_amount, tkn_amount)\n",
    "lp_tkn.summary()\n",
    "\n",
    "tkn2 = ERC20(\"TKN\", \"0x112\")\n",
    "lp_tkn_amount = 1000\n",
    "exchg_data = UniswapExchangeData(tkn0 = lp_tkn, tkn1 = tkn2, symbol=\"LP2\", address=\"0x012\")\n",
    "lp2 = factory.deploy(exchg_data)\n",
    "lp2.add_liquidity(user_nm, eth_amount, lp_tkn_amount, eth_amount, lp_tkn_amount)\n",
    "lp2.summary()\n",
    "\n",
    "WithdrawSwap().apply(lp2, lp_tkn, user_nm, 10)\n",
    "lp2.summary() "
   ]
  }
 ],
 "metadata": {
  "kernelspec": {
   "display_name": "py3",
   "language": "python",
   "name": "py3"
  },
  "language_info": {
   "codemirror_mode": {
    "name": "ipython",
    "version": 3
   },
   "file_extension": ".py",
   "mimetype": "text/x-python",
   "name": "python",
   "nbconvert_exporter": "python",
   "pygments_lexer": "ipython3",
   "version": "3.10.0rc2"
  }
 },
 "nbformat": 4,
 "nbformat_minor": 5
}
